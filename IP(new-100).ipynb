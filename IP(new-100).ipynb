{
  "nbformat": 4,
  "nbformat_minor": 0,
  "metadata": {
    "colab": {
      "provenance": [],
      "gpuType": "T4",
      "include_colab_link": true
    },
    "kernelspec": {
      "name": "python3",
      "display_name": "Python 3"
    },
    "language_info": {
      "name": "python"
    },
    "accelerator": "GPU"
  },
  "cells": [
    {
      "cell_type": "markdown",
      "metadata": {
        "id": "view-in-github",
        "colab_type": "text"
      },
      "source": [
        "<a href=\"https://colab.research.google.com/github/Safa06/Thesis/blob/main/IP(new-100).ipynb\" target=\"_parent\"><img src=\"https://colab.research.google.com/assets/colab-badge.svg\" alt=\"Open In Colab\"/></a>"
      ]
    },
    {
      "cell_type": "markdown",
      "source": [
        "# **Import Libraries**"
      ],
      "metadata": {
        "id": "MXYpw6mxZeiQ"
      }
    },
    {
      "cell_type": "code",
      "source": [
        "# VGG16\n",
        "#import cv2\n",
        "import tensorflow as tf\n",
        "import seaborn as sns\n",
        "import pandas as pd\n",
        "from sklearn.model_selection import train_test_split\n",
        "from sklearn.preprocessing import StandardScaler\n",
        "#from tensorflow.keras.applications import VGG16\n",
        "from tensorflow.keras.models import Sequential\n",
        "from tensorflow.keras.layers import Flatten, Dense, Dropout\n",
        "from tensorflow.keras.optimizers import Adam\n",
        "from sklearn.decomposition import PCA\n",
        "import scipy.io\n",
        "from scipy.io import loadmat\n",
        "#from skimage.transform import resize\n",
        "from keras.applications.vgg16 import preprocess_input\n",
        "from tensorflow import keras\n",
        "from keras.models import Sequential\n",
        "from keras.layers import Dense, Dropout, Activation, Flatten\n",
        "from keras.layers import Conv2D, MaxPooling2D\n",
        "import numpy as np\n",
        "from sklearn.metrics import confusion_matrix\n",
        "import matplotlib.pyplot as plt\n",
        "from sklearn.metrics import precision_score,recall_score,f1_score\n",
        "from sklearn.metrics import classification_report\n",
        "from keras.callbacks import ModelCheckpoint"
      ],
      "metadata": {
        "id": "ILiDl3DAZax7"
      },
      "execution_count": 3,
      "outputs": []
    },
    {
      "cell_type": "markdown",
      "source": [
        "# **Data Load**"
      ],
      "metadata": {
        "id": "opgqr_NgaDN7"
      }
    },
    {
      "cell_type": "code",
      "source": [
        "# DATA load\n",
        "mat_data1= scipy.io.loadmat('Indian_pines_corrected.mat')\n",
        "mat_data2=scipy.io.loadmat('Indian_pines_gt.mat')\n",
        "X=mat_data1['indian_pines_corrected']\n",
        "y=mat_data2['indian_pines_gt']\n",
        "print(X.shape)\n",
        "print(y.shape)"
      ],
      "metadata": {
        "colab": {
          "base_uri": "https://localhost:8080/"
        },
        "id": "agxT-k9AaBL1",
        "outputId": "6068498c-6c9d-4362-ead6-de4bba49159d"
      },
      "execution_count": 4,
      "outputs": [
        {
          "output_type": "stream",
          "name": "stdout",
          "text": [
            "(145, 145, 200)\n",
            "(145, 145)\n"
          ]
        }
      ]
    },
    {
      "cell_type": "markdown",
      "source": [
        "# **Apply PCA,PADDING**"
      ],
      "metadata": {
        "id": "LieHlz3GaH6K"
      }
    },
    {
      "cell_type": "code",
      "source": [
        "# Apply PCA to minimize band from 200 to 3 band\n",
        "def applyPCA(X, numComponents=75):\n",
        "    newX = np.reshape(X, (-1, X.shape[2]))\n",
        "    pca = PCA(n_components=numComponents, whiten=True)\n",
        "    newX = pca.fit_transform(newX)\n",
        "    newX = np.reshape(newX, (X.shape[0],X.shape[1], numComponents))\n",
        "    return newX, pca\n",
        "\n",
        "K = 3\n",
        "X,pca= applyPCA(X,numComponents=K)\n",
        "print(X.shape, y.shape)\n",
        "\n",
        "\n",
        "\n",
        "#padding with zero\n",
        "def padWithZeros(X, margin=2):\n",
        "    newX = np.zeros((X.shape[0] + 2 * margin, X.shape[1] + 2* margin, X.shape[2]))\n",
        "    x_offset = margin\n",
        "    y_offset = margin\n",
        "    newX[x_offset:X.shape[0] + x_offset, y_offset:X.shape[1] + y_offset, :] = X\n",
        "    return newX\n"
      ],
      "metadata": {
        "colab": {
          "base_uri": "https://localhost:8080/"
        },
        "id": "YAdVKX5UZ6xJ",
        "outputId": "a8f4e35e-7a3d-40dd-b215-886ebcb208de"
      },
      "execution_count": 5,
      "outputs": [
        {
          "output_type": "stream",
          "name": "stdout",
          "text": [
            "(145, 145, 3) (145, 145)\n"
          ]
        }
      ]
    },
    {
      "cell_type": "markdown",
      "source": [
        "# **Create Patches**"
      ],
      "metadata": {
        "id": "aEWUpD6iaS7N"
      }
    },
    {
      "cell_type": "code",
      "source": [
        "# Window for patches\n",
        "windowSize=23\n",
        "def createImageCubes(X, y, windowSize=5, removeZeroLabels = True):\n",
        "    margin = int((windowSize - 1) / 2)\n",
        "    zeroPaddedX = padWithZeros(X, margin=margin)\n",
        "    # split patches\n",
        "    patchesData = np.zeros((X.shape[0] * X.shape[1], windowSize, windowSize, X.shape[2]))\n",
        "    patchesLabels = np.zeros((X.shape[0] * X.shape[1]))\n",
        "    patchIndex = 0\n",
        "    for r in range(margin, zeroPaddedX.shape[0] - margin):\n",
        "        for c in range(margin, zeroPaddedX.shape[1] - margin):\n",
        "            patch = zeroPaddedX[r - margin:r + margin + 1, c - margin:c + margin + 1]\n",
        "            patchesData[patchIndex, :, :, :] = patch\n",
        "            patchesLabels[patchIndex] = y[r-margin, c-margin]\n",
        "            patchIndex = patchIndex + 1\n",
        "    if removeZeroLabels:\n",
        "        patchesData = patchesData[patchesLabels>0,:,:,:]\n",
        "        patchesLabels = patchesLabels[patchesLabels>0]\n",
        "        patchesLabels -= 1\n",
        "    return patchesData, patchesLabels\n",
        "\n",
        "X, y = createImageCubes(X, y, windowSize=windowSize)\n",
        "#print(X.shape,y.shape)"
      ],
      "metadata": {
        "id": "5Cg8KgYRaZVb"
      },
      "execution_count": 6,
      "outputs": []
    },
    {
      "cell_type": "markdown",
      "source": [
        "# **Train-test split**"
      ],
      "metadata": {
        "id": "fR5pB2iSaar9"
      }
    },
    {
      "cell_type": "code",
      "source": [
        "#Split train-test\n",
        "X_train, X_test, y_train, y_test = train_test_split(\n",
        "    X, y, test_size=0.3, random_state=42)\n",
        "\n",
        "print(X_train.shape,X_test.shape,y_train.shape,y_test.shape)\n"
      ],
      "metadata": {
        "colab": {
          "base_uri": "https://localhost:8080/"
        },
        "id": "d2Iz6x1aahBc",
        "outputId": "e00fcb73-d491-4847-d14a-5a2709b5d2cf"
      },
      "execution_count": 7,
      "outputs": [
        {
          "output_type": "stream",
          "name": "stdout",
          "text": [
            "(7174, 23, 23, 3) (3075, 23, 23, 3) (7174,) (3075,)\n"
          ]
        }
      ]
    },
    {
      "cell_type": "markdown",
      "source": [
        "# **Model**"
      ],
      "metadata": {
        "id": "mV6jMqF6aijJ"
      }
    },
    {
      "cell_type": "code",
      "source": [
        "S = windowSize\n",
        "L = K\n",
        "#output_units = 9 if (dataset == 'PU' or dataset == 'PC') else 16\n",
        "\n",
        "## input layer\n",
        "input_layer = (23,23,3)\n",
        "\n",
        "#for 3D CNN--input_layer=Input(S, S, L, 1)\n",
        "\n",
        "#Model\n",
        "model = Sequential()\n",
        "\n",
        "#Block 1\n",
        "\n",
        "model.add(Conv2D(filters=64, kernel_size=(3,3), activation='relu',padding=\"same\",input_shape=(23,23,3)))\n",
        "model.add(Conv2D(64, kernel_size=(3,3), activation='relu',padding=\"same\"))\n",
        "model.add(MaxPooling2D((2, 2), strides=(2, 2)))\n",
        "\n",
        "# Block 2\n",
        "model.add(Conv2D(128, (3, 3), activation='relu', padding='same'))\n",
        "model.add(Conv2D(128, (3, 3), activation='relu', padding='same'))\n",
        "model.add(MaxPooling2D((2, 2), strides=(2, 2)))\n",
        "\n",
        "# Block 3\n",
        "model.add(Conv2D(256, (3, 3), activation='relu', padding='same'))\n",
        "model.add(Conv2D(256, (3, 3), activation='relu', padding='same'))\n",
        "model.add(Conv2D(256, (3, 3), activation='relu', padding='same'))\n",
        "model.add(MaxPooling2D((2, 2), strides=(2, 2)))\n",
        "\n",
        "# Block 4\n",
        "model.add(Conv2D(512, (3, 3), activation='relu', padding='same'))\n",
        "model.add(Conv2D(512, (3, 3), activation='relu', padding='same'))\n",
        "model.add(Conv2D(512, (3, 3), activation='relu', padding='same'))\n",
        "model.add(MaxPooling2D((2, 2), strides=(2, 2)))\n",
        "\n",
        "# Block 5\n",
        "model.add(Conv2D(512, (3, 3), activation='relu', padding='same'))\n",
        "model.add(Conv2D(512, (3, 3), activation='relu', padding='same'))\n",
        "model.add(Conv2D(512, (3, 3), activation='relu', padding='same'))\n",
        "#model.add(MaxPooling2D((2, 2), strides=(2, 2)))\n",
        "model.add(MaxPooling2D((1, 1), strides=(1, 1)))\n",
        "\n",
        "# Fully connected layers\n",
        "model.add(Flatten())\n",
        "model.add(Dense(units=4096, activation='relu'))\n",
        "model.add(Dense(units=4096, activation='relu'))\n",
        "model.add(Dense(units=16, activation='softmax'))\n",
        "\n",
        "model.build()\n",
        "model.summary()\n",
        "\n",
        "\n",
        "model.compile(optimizer=Adam(learning_rate=0.0001), loss='sparse_categorical_crossentropy', metrics=['accuracy'])\n"
      ],
      "metadata": {
        "id": "agZD-afY1IJV",
        "colab": {
          "base_uri": "https://localhost:8080/"
        },
        "outputId": "ed5f5afa-990b-4985-b0cd-8445f40cb397"
      },
      "execution_count": 8,
      "outputs": [
        {
          "output_type": "stream",
          "name": "stdout",
          "text": [
            "Model: \"sequential\"\n",
            "_________________________________________________________________\n",
            " Layer (type)                Output Shape              Param #   \n",
            "=================================================================\n",
            " conv2d (Conv2D)             (None, 23, 23, 64)        1792      \n",
            "                                                                 \n",
            " conv2d_1 (Conv2D)           (None, 23, 23, 64)        36928     \n",
            "                                                                 \n",
            " max_pooling2d (MaxPooling2  (None, 11, 11, 64)        0         \n",
            " D)                                                              \n",
            "                                                                 \n",
            " conv2d_2 (Conv2D)           (None, 11, 11, 128)       73856     \n",
            "                                                                 \n",
            " conv2d_3 (Conv2D)           (None, 11, 11, 128)       147584    \n",
            "                                                                 \n",
            " max_pooling2d_1 (MaxPoolin  (None, 5, 5, 128)         0         \n",
            " g2D)                                                            \n",
            "                                                                 \n",
            " conv2d_4 (Conv2D)           (None, 5, 5, 256)         295168    \n",
            "                                                                 \n",
            " conv2d_5 (Conv2D)           (None, 5, 5, 256)         590080    \n",
            "                                                                 \n",
            " conv2d_6 (Conv2D)           (None, 5, 5, 256)         590080    \n",
            "                                                                 \n",
            " max_pooling2d_2 (MaxPoolin  (None, 2, 2, 256)         0         \n",
            " g2D)                                                            \n",
            "                                                                 \n",
            " conv2d_7 (Conv2D)           (None, 2, 2, 512)         1180160   \n",
            "                                                                 \n",
            " conv2d_8 (Conv2D)           (None, 2, 2, 512)         2359808   \n",
            "                                                                 \n",
            " conv2d_9 (Conv2D)           (None, 2, 2, 512)         2359808   \n",
            "                                                                 \n",
            " max_pooling2d_3 (MaxPoolin  (None, 1, 1, 512)         0         \n",
            " g2D)                                                            \n",
            "                                                                 \n",
            " conv2d_10 (Conv2D)          (None, 1, 1, 512)         2359808   \n",
            "                                                                 \n",
            " conv2d_11 (Conv2D)          (None, 1, 1, 512)         2359808   \n",
            "                                                                 \n",
            " conv2d_12 (Conv2D)          (None, 1, 1, 512)         2359808   \n",
            "                                                                 \n",
            " max_pooling2d_4 (MaxPoolin  (None, 1, 1, 512)         0         \n",
            " g2D)                                                            \n",
            "                                                                 \n",
            " flatten (Flatten)           (None, 512)               0         \n",
            "                                                                 \n",
            " dense (Dense)               (None, 4096)              2101248   \n",
            "                                                                 \n",
            " dense_1 (Dense)             (None, 4096)              16781312  \n",
            "                                                                 \n",
            " dense_2 (Dense)             (None, 16)                65552     \n",
            "                                                                 \n",
            "=================================================================\n",
            "Total params: 33662800 (128.41 MB)\n",
            "Trainable params: 33662800 (128.41 MB)\n",
            "Non-trainable params: 0 (0.00 Byte)\n",
            "_________________________________________________________________\n"
          ]
        }
      ]
    },
    {
      "cell_type": "markdown",
      "source": [
        "# **Epoch starts**"
      ],
      "metadata": {
        "id": "i1K2Hvsoax9c"
      }
    },
    {
      "cell_type": "code",
      "source": [
        "# checkpoint for saving epochs\n",
        "filepath = \"best-model.hdf5\"\n",
        "checkpoint = ModelCheckpoint(filepath, monitor='accuracy', verbose=1, save_best_only=True, mode='max')\n",
        "callbacks_list = [checkpoint]\n",
        "\n",
        "history = model.fit(X_train, y_train, epochs=100, validation_data=(X_test,y_test),batch_size=32,callbacks=callbacks_list)"
      ],
      "metadata": {
        "colab": {
          "base_uri": "https://localhost:8080/"
        },
        "id": "ed963_DZawhl",
        "outputId": "40448fe9-7c2a-4d43-a822-cd228f698b2c"
      },
      "execution_count": 9,
      "outputs": [
        {
          "output_type": "stream",
          "name": "stdout",
          "text": [
            "Epoch 1/100\n",
            "225/225 [==============================] - ETA: 0s - loss: 2.0136 - accuracy: 0.3012\n",
            "Epoch 1: accuracy improved from -inf to 0.30123, saving model to best-model.hdf5\n"
          ]
        },
        {
          "output_type": "stream",
          "name": "stderr",
          "text": [
            "/usr/local/lib/python3.10/dist-packages/keras/src/engine/training.py:3103: UserWarning: You are saving your model as an HDF5 file via `model.save()`. This file format is considered legacy. We recommend using instead the native Keras format, e.g. `model.save('my_model.keras')`.\n",
            "  saving_api.save_model(\n"
          ]
        },
        {
          "output_type": "stream",
          "name": "stdout",
          "text": [
            "\b\b\b\b\b\b\b\b\b\b\b\b\b\b\b\b\b\b\b\b\b\b\b\b\b\b\b\b\b\b\b\b\b\b\b\b\b\b\b\b\b\b\b\b\b\b\b\b\b\b\b\b\b\b\b\b\b\b\b\b\b\b\b\b\b\b\b\b\b\b\b\b\b\b\b\b\b\b\b\b\b\b\b\b\r225/225 [==============================] - 20s 46ms/step - loss: 2.0136 - accuracy: 0.3012 - val_loss: 1.4080 - val_accuracy: 0.4156\n",
            "Epoch 2/100\n",
            "225/225 [==============================] - ETA: 0s - loss: 1.1403 - accuracy: 0.5539\n",
            "Epoch 2: accuracy improved from 0.30123 to 0.55394, saving model to best-model.hdf5\n",
            "225/225 [==============================] - 10s 42ms/step - loss: 1.1403 - accuracy: 0.5539 - val_loss: 0.8887 - val_accuracy: 0.6738\n",
            "Epoch 3/100\n",
            "224/225 [============================>.] - ETA: 0s - loss: 0.6929 - accuracy: 0.7320\n",
            "Epoch 3: accuracy improved from 0.55394 to 0.73209, saving model to best-model.hdf5\n",
            "225/225 [==============================] - 10s 44ms/step - loss: 0.6926 - accuracy: 0.7321 - val_loss: 0.5089 - val_accuracy: 0.8114\n",
            "Epoch 4/100\n",
            "225/225 [==============================] - ETA: 0s - loss: 0.4072 - accuracy: 0.8627\n",
            "Epoch 4: accuracy improved from 0.73209 to 0.86270, saving model to best-model.hdf5\n",
            "225/225 [==============================] - 9s 39ms/step - loss: 0.4072 - accuracy: 0.8627 - val_loss: 0.3155 - val_accuracy: 0.8998\n",
            "Epoch 5/100\n",
            "225/225 [==============================] - ETA: 0s - loss: 0.2410 - accuracy: 0.9250\n",
            "Epoch 5: accuracy improved from 0.86270 to 0.92501, saving model to best-model.hdf5\n",
            "225/225 [==============================] - 9s 41ms/step - loss: 0.2410 - accuracy: 0.9250 - val_loss: 0.1516 - val_accuracy: 0.9681\n",
            "Epoch 6/100\n",
            "225/225 [==============================] - ETA: 0s - loss: 0.1205 - accuracy: 0.9677\n",
            "Epoch 6: accuracy improved from 0.92501 to 0.96766, saving model to best-model.hdf5\n",
            "225/225 [==============================] - 9s 38ms/step - loss: 0.1205 - accuracy: 0.9677 - val_loss: 0.1201 - val_accuracy: 0.9649\n",
            "Epoch 7/100\n",
            "225/225 [==============================] - ETA: 0s - loss: 0.0870 - accuracy: 0.9745\n",
            "Epoch 7: accuracy improved from 0.96766 to 0.97449, saving model to best-model.hdf5\n",
            "225/225 [==============================] - 9s 40ms/step - loss: 0.0870 - accuracy: 0.9745 - val_loss: 0.0784 - val_accuracy: 0.9750\n",
            "Epoch 8/100\n",
            "225/225 [==============================] - ETA: 0s - loss: 0.0294 - accuracy: 0.9930\n",
            "Epoch 8: accuracy improved from 0.97449 to 0.99303, saving model to best-model.hdf5\n",
            "225/225 [==============================] - 9s 39ms/step - loss: 0.0294 - accuracy: 0.9930 - val_loss: 0.0747 - val_accuracy: 0.9912\n",
            "Epoch 9/100\n",
            "225/225 [==============================] - ETA: 0s - loss: 0.0179 - accuracy: 0.9967\n",
            "Epoch 9: accuracy improved from 0.99303 to 0.99665, saving model to best-model.hdf5\n",
            "225/225 [==============================] - 9s 38ms/step - loss: 0.0179 - accuracy: 0.9967 - val_loss: 0.0384 - val_accuracy: 0.9928\n",
            "Epoch 10/100\n",
            "225/225 [==============================] - ETA: 0s - loss: 0.1745 - accuracy: 0.9592\n",
            "Epoch 10: accuracy did not improve from 0.99665\n",
            "225/225 [==============================] - 7s 32ms/step - loss: 0.1745 - accuracy: 0.9592 - val_loss: 0.1170 - val_accuracy: 0.9662\n",
            "Epoch 11/100\n",
            "225/225 [==============================] - ETA: 0s - loss: 0.0456 - accuracy: 0.9884\n",
            "Epoch 11: accuracy did not improve from 0.99665\n",
            "225/225 [==============================] - 8s 35ms/step - loss: 0.0456 - accuracy: 0.9884 - val_loss: 0.0234 - val_accuracy: 0.9941\n",
            "Epoch 12/100\n",
            "225/225 [==============================] - ETA: 0s - loss: 0.0302 - accuracy: 0.9909\n",
            "Epoch 12: accuracy did not improve from 0.99665\n",
            "225/225 [==============================] - 8s 36ms/step - loss: 0.0302 - accuracy: 0.9909 - val_loss: 0.0423 - val_accuracy: 0.9880\n",
            "Epoch 13/100\n",
            "224/225 [============================>.] - ETA: 0s - loss: 0.0836 - accuracy: 0.9764\n",
            "Epoch 13: accuracy did not improve from 0.99665\n",
            "225/225 [==============================] - 9s 39ms/step - loss: 0.0835 - accuracy: 0.9764 - val_loss: 0.0528 - val_accuracy: 0.9886\n",
            "Epoch 14/100\n",
            "225/225 [==============================] - ETA: 0s - loss: 0.0424 - accuracy: 0.9894\n",
            "Epoch 14: accuracy did not improve from 0.99665\n",
            "225/225 [==============================] - 8s 35ms/step - loss: 0.0424 - accuracy: 0.9894 - val_loss: 0.0123 - val_accuracy: 0.9974\n",
            "Epoch 15/100\n",
            "225/225 [==============================] - ETA: 0s - loss: 0.0025 - accuracy: 0.9997\n",
            "Epoch 15: accuracy improved from 0.99665 to 0.99972, saving model to best-model.hdf5\n",
            "225/225 [==============================] - 9s 38ms/step - loss: 0.0025 - accuracy: 0.9997 - val_loss: 0.0067 - val_accuracy: 0.9987\n",
            "Epoch 16/100\n",
            "225/225 [==============================] - ETA: 0s - loss: 6.6622e-04 - accuracy: 1.0000\n",
            "Epoch 16: accuracy improved from 0.99972 to 1.00000, saving model to best-model.hdf5\n",
            "225/225 [==============================] - 9s 39ms/step - loss: 6.6622e-04 - accuracy: 1.0000 - val_loss: 0.0066 - val_accuracy: 0.9987\n",
            "Epoch 17/100\n",
            "225/225 [==============================] - ETA: 0s - loss: 3.9915e-04 - accuracy: 1.0000\n",
            "Epoch 17: accuracy did not improve from 1.00000\n",
            "225/225 [==============================] - 7s 32ms/step - loss: 3.9915e-04 - accuracy: 1.0000 - val_loss: 0.0069 - val_accuracy: 0.9987\n",
            "Epoch 18/100\n",
            "225/225 [==============================] - ETA: 0s - loss: 2.1327e-04 - accuracy: 1.0000\n",
            "Epoch 18: accuracy did not improve from 1.00000\n",
            "225/225 [==============================] - 7s 33ms/step - loss: 2.1327e-04 - accuracy: 1.0000 - val_loss: 0.0085 - val_accuracy: 0.9980\n",
            "Epoch 19/100\n",
            "225/225 [==============================] - ETA: 0s - loss: 8.7640e-05 - accuracy: 1.0000\n",
            "Epoch 19: accuracy did not improve from 1.00000\n",
            "225/225 [==============================] - 8s 35ms/step - loss: 8.7640e-05 - accuracy: 1.0000 - val_loss: 0.0094 - val_accuracy: 0.9984\n",
            "Epoch 20/100\n",
            "225/225 [==============================] - ETA: 0s - loss: 4.0565e-05 - accuracy: 1.0000\n",
            "Epoch 20: accuracy did not improve from 1.00000\n",
            "225/225 [==============================] - 7s 32ms/step - loss: 4.0565e-05 - accuracy: 1.0000 - val_loss: 0.0102 - val_accuracy: 0.9980\n",
            "Epoch 21/100\n",
            "225/225 [==============================] - ETA: 0s - loss: 3.6868e-05 - accuracy: 1.0000\n",
            "Epoch 21: accuracy did not improve from 1.00000\n",
            "225/225 [==============================] - 7s 33ms/step - loss: 3.6868e-05 - accuracy: 1.0000 - val_loss: 0.0109 - val_accuracy: 0.9980\n",
            "Epoch 22/100\n",
            "225/225 [==============================] - ETA: 0s - loss: 1.6472e-05 - accuracy: 1.0000\n",
            "Epoch 22: accuracy did not improve from 1.00000\n",
            "225/225 [==============================] - 7s 32ms/step - loss: 1.6472e-05 - accuracy: 1.0000 - val_loss: 0.0113 - val_accuracy: 0.9980\n",
            "Epoch 23/100\n",
            "225/225 [==============================] - ETA: 0s - loss: 1.0907e-05 - accuracy: 1.0000\n",
            "Epoch 23: accuracy did not improve from 1.00000\n",
            "225/225 [==============================] - 7s 33ms/step - loss: 1.0907e-05 - accuracy: 1.0000 - val_loss: 0.0120 - val_accuracy: 0.9980\n",
            "Epoch 24/100\n",
            "225/225 [==============================] - ETA: 0s - loss: 7.5478e-06 - accuracy: 1.0000\n",
            "Epoch 24: accuracy did not improve from 1.00000\n",
            "225/225 [==============================] - 7s 32ms/step - loss: 7.5478e-06 - accuracy: 1.0000 - val_loss: 0.0124 - val_accuracy: 0.9980\n",
            "Epoch 25/100\n",
            "225/225 [==============================] - ETA: 0s - loss: 6.6507e-06 - accuracy: 1.0000\n",
            "Epoch 25: accuracy did not improve from 1.00000\n",
            "225/225 [==============================] - 7s 33ms/step - loss: 6.6507e-06 - accuracy: 1.0000 - val_loss: 0.0125 - val_accuracy: 0.9980\n",
            "Epoch 26/100\n",
            "225/225 [==============================] - ETA: 0s - loss: 4.4557e-06 - accuracy: 1.0000\n",
            "Epoch 26: accuracy did not improve from 1.00000\n",
            "225/225 [==============================] - 8s 35ms/step - loss: 4.4557e-06 - accuracy: 1.0000 - val_loss: 0.0130 - val_accuracy: 0.9980\n",
            "Epoch 27/100\n",
            "225/225 [==============================] - ETA: 0s - loss: 3.6609e-06 - accuracy: 1.0000\n",
            "Epoch 27: accuracy did not improve from 1.00000\n",
            "225/225 [==============================] - 7s 33ms/step - loss: 3.6609e-06 - accuracy: 1.0000 - val_loss: 0.0140 - val_accuracy: 0.9977\n",
            "Epoch 28/100\n",
            "225/225 [==============================] - ETA: 0s - loss: 5.3155e-06 - accuracy: 1.0000\n",
            "Epoch 28: accuracy did not improve from 1.00000\n",
            "225/225 [==============================] - 7s 33ms/step - loss: 5.3155e-06 - accuracy: 1.0000 - val_loss: 0.0195 - val_accuracy: 0.9967\n",
            "Epoch 29/100\n",
            "225/225 [==============================] - ETA: 0s - loss: 0.2486 - accuracy: 0.9469\n",
            "Epoch 29: accuracy did not improve from 1.00000\n",
            "225/225 [==============================] - 7s 32ms/step - loss: 0.2486 - accuracy: 0.9469 - val_loss: 0.5951 - val_accuracy: 0.8319\n",
            "Epoch 30/100\n",
            "225/225 [==============================] - ETA: 0s - loss: 0.1467 - accuracy: 0.9624\n",
            "Epoch 30: accuracy did not improve from 1.00000\n",
            "225/225 [==============================] - 7s 33ms/step - loss: 0.1467 - accuracy: 0.9624 - val_loss: 0.0666 - val_accuracy: 0.9857\n",
            "Epoch 31/100\n",
            "225/225 [==============================] - ETA: 0s - loss: 0.0384 - accuracy: 0.9897\n",
            "Epoch 31: accuracy did not improve from 1.00000\n",
            "225/225 [==============================] - 7s 32ms/step - loss: 0.0384 - accuracy: 0.9897 - val_loss: 0.0393 - val_accuracy: 0.9925\n",
            "Epoch 32/100\n",
            "225/225 [==============================] - ETA: 0s - loss: 0.0119 - accuracy: 0.9971\n",
            "Epoch 32: accuracy did not improve from 1.00000\n",
            "225/225 [==============================] - 7s 33ms/step - loss: 0.0119 - accuracy: 0.9971 - val_loss: 0.0079 - val_accuracy: 0.9980\n",
            "Epoch 33/100\n",
            "225/225 [==============================] - ETA: 0s - loss: 0.0012 - accuracy: 1.0000\n",
            "Epoch 33: accuracy did not improve from 1.00000\n",
            "225/225 [==============================] - 8s 35ms/step - loss: 0.0012 - accuracy: 1.0000 - val_loss: 0.0071 - val_accuracy: 0.9980\n",
            "Epoch 34/100\n",
            "225/225 [==============================] - ETA: 0s - loss: 5.9519e-04 - accuracy: 1.0000\n",
            "Epoch 34: accuracy did not improve from 1.00000\n",
            "225/225 [==============================] - 7s 32ms/step - loss: 5.9519e-04 - accuracy: 1.0000 - val_loss: 0.0079 - val_accuracy: 0.9974\n",
            "Epoch 35/100\n",
            "225/225 [==============================] - ETA: 0s - loss: 3.6417e-04 - accuracy: 1.0000\n",
            "Epoch 35: accuracy did not improve from 1.00000\n",
            "225/225 [==============================] - 7s 33ms/step - loss: 3.6417e-04 - accuracy: 1.0000 - val_loss: 0.0086 - val_accuracy: 0.9977\n",
            "Epoch 36/100\n",
            "225/225 [==============================] - ETA: 0s - loss: 2.3356e-04 - accuracy: 1.0000\n",
            "Epoch 36: accuracy did not improve from 1.00000\n",
            "225/225 [==============================] - 7s 32ms/step - loss: 2.3356e-04 - accuracy: 1.0000 - val_loss: 0.0091 - val_accuracy: 0.9974\n",
            "Epoch 37/100\n",
            "225/225 [==============================] - ETA: 0s - loss: 1.6267e-04 - accuracy: 1.0000\n",
            "Epoch 37: accuracy did not improve from 1.00000\n",
            "225/225 [==============================] - 7s 33ms/step - loss: 1.6267e-04 - accuracy: 1.0000 - val_loss: 0.0097 - val_accuracy: 0.9974\n",
            "Epoch 38/100\n",
            "225/225 [==============================] - ETA: 0s - loss: 1.1461e-04 - accuracy: 1.0000\n",
            "Epoch 38: accuracy did not improve from 1.00000\n",
            "225/225 [==============================] - 7s 32ms/step - loss: 1.1461e-04 - accuracy: 1.0000 - val_loss: 0.0103 - val_accuracy: 0.9971\n",
            "Epoch 39/100\n",
            "225/225 [==============================] - ETA: 0s - loss: 8.3575e-05 - accuracy: 1.0000\n",
            "Epoch 39: accuracy did not improve from 1.00000\n",
            "225/225 [==============================] - 7s 33ms/step - loss: 8.3575e-05 - accuracy: 1.0000 - val_loss: 0.0109 - val_accuracy: 0.9974\n",
            "Epoch 40/100\n",
            "225/225 [==============================] - ETA: 0s - loss: 6.5826e-05 - accuracy: 1.0000\n",
            "Epoch 40: accuracy did not improve from 1.00000\n",
            "225/225 [==============================] - 8s 35ms/step - loss: 6.5826e-05 - accuracy: 1.0000 - val_loss: 0.0114 - val_accuracy: 0.9971\n",
            "Epoch 41/100\n",
            "225/225 [==============================] - ETA: 0s - loss: 5.0315e-05 - accuracy: 1.0000\n",
            "Epoch 41: accuracy did not improve from 1.00000\n",
            "225/225 [==============================] - 7s 32ms/step - loss: 5.0315e-05 - accuracy: 1.0000 - val_loss: 0.0122 - val_accuracy: 0.9971\n",
            "Epoch 42/100\n",
            "225/225 [==============================] - ETA: 0s - loss: 3.8117e-05 - accuracy: 1.0000\n",
            "Epoch 42: accuracy did not improve from 1.00000\n",
            "225/225 [==============================] - 7s 33ms/step - loss: 3.8117e-05 - accuracy: 1.0000 - val_loss: 0.0128 - val_accuracy: 0.9971\n",
            "Epoch 43/100\n",
            "225/225 [==============================] - ETA: 0s - loss: 2.8529e-05 - accuracy: 1.0000\n",
            "Epoch 43: accuracy did not improve from 1.00000\n",
            "225/225 [==============================] - 7s 32ms/step - loss: 2.8529e-05 - accuracy: 1.0000 - val_loss: 0.0133 - val_accuracy: 0.9974\n",
            "Epoch 44/100\n",
            "225/225 [==============================] - ETA: 0s - loss: 2.2082e-05 - accuracy: 1.0000\n",
            "Epoch 44: accuracy did not improve from 1.00000\n",
            "225/225 [==============================] - 7s 33ms/step - loss: 2.2082e-05 - accuracy: 1.0000 - val_loss: 0.0138 - val_accuracy: 0.9971\n",
            "Epoch 45/100\n",
            "225/225 [==============================] - ETA: 0s - loss: 1.5596e-05 - accuracy: 1.0000\n",
            "Epoch 45: accuracy did not improve from 1.00000\n",
            "225/225 [==============================] - 7s 32ms/step - loss: 1.5596e-05 - accuracy: 1.0000 - val_loss: 0.0142 - val_accuracy: 0.9974\n",
            "Epoch 46/100\n",
            "225/225 [==============================] - ETA: 0s - loss: 1.0233e-05 - accuracy: 1.0000\n",
            "Epoch 46: accuracy did not improve from 1.00000\n",
            "225/225 [==============================] - 7s 33ms/step - loss: 1.0233e-05 - accuracy: 1.0000 - val_loss: 0.0150 - val_accuracy: 0.9974\n",
            "Epoch 47/100\n",
            "225/225 [==============================] - ETA: 0s - loss: 7.1493e-06 - accuracy: 1.0000\n",
            "Epoch 47: accuracy did not improve from 1.00000\n",
            "225/225 [==============================] - 8s 35ms/step - loss: 7.1493e-06 - accuracy: 1.0000 - val_loss: 0.0155 - val_accuracy: 0.9974\n",
            "Epoch 48/100\n",
            "225/225 [==============================] - ETA: 0s - loss: 4.7995e-06 - accuracy: 1.0000\n",
            "Epoch 48: accuracy did not improve from 1.00000\n",
            "225/225 [==============================] - 7s 32ms/step - loss: 4.7995e-06 - accuracy: 1.0000 - val_loss: 0.0161 - val_accuracy: 0.9974\n",
            "Epoch 49/100\n",
            "225/225 [==============================] - ETA: 0s - loss: 3.4728e-06 - accuracy: 1.0000\n",
            "Epoch 49: accuracy did not improve from 1.00000\n",
            "225/225 [==============================] - 7s 33ms/step - loss: 3.4728e-06 - accuracy: 1.0000 - val_loss: 0.0165 - val_accuracy: 0.9974\n",
            "Epoch 50/100\n",
            "225/225 [==============================] - ETA: 0s - loss: 2.6188e-06 - accuracy: 1.0000\n",
            "Epoch 50: accuracy did not improve from 1.00000\n",
            "225/225 [==============================] - 7s 32ms/step - loss: 2.6188e-06 - accuracy: 1.0000 - val_loss: 0.0170 - val_accuracy: 0.9974\n",
            "Epoch 51/100\n",
            "225/225 [==============================] - ETA: 0s - loss: 1.9912e-06 - accuracy: 1.0000\n",
            "Epoch 51: accuracy did not improve from 1.00000\n",
            "225/225 [==============================] - 7s 33ms/step - loss: 1.9912e-06 - accuracy: 1.0000 - val_loss: 0.0178 - val_accuracy: 0.9974\n",
            "Epoch 52/100\n",
            "225/225 [==============================] - ETA: 0s - loss: 1.5253e-06 - accuracy: 1.0000\n",
            "Epoch 52: accuracy did not improve from 1.00000\n",
            "225/225 [==============================] - 7s 32ms/step - loss: 1.5253e-06 - accuracy: 1.0000 - val_loss: 0.0181 - val_accuracy: 0.9974\n",
            "Epoch 53/100\n",
            "225/225 [==============================] - ETA: 0s - loss: 1.1794e-06 - accuracy: 1.0000\n",
            "Epoch 53: accuracy did not improve from 1.00000\n",
            "225/225 [==============================] - 7s 33ms/step - loss: 1.1794e-06 - accuracy: 1.0000 - val_loss: 0.0184 - val_accuracy: 0.9974\n",
            "Epoch 54/100\n",
            "225/225 [==============================] - ETA: 0s - loss: 9.0434e-07 - accuracy: 1.0000\n",
            "Epoch 54: accuracy did not improve from 1.00000\n",
            "225/225 [==============================] - 7s 32ms/step - loss: 9.0434e-07 - accuracy: 1.0000 - val_loss: 0.0190 - val_accuracy: 0.9974\n",
            "Epoch 55/100\n",
            "225/225 [==============================] - ETA: 0s - loss: 7.0642e-07 - accuracy: 1.0000\n",
            "Epoch 55: accuracy did not improve from 1.00000\n",
            "225/225 [==============================] - 8s 34ms/step - loss: 7.0642e-07 - accuracy: 1.0000 - val_loss: 0.0194 - val_accuracy: 0.9974\n",
            "Epoch 56/100\n",
            "225/225 [==============================] - ETA: 0s - loss: 5.8246e-07 - accuracy: 1.0000\n",
            "Epoch 56: accuracy did not improve from 1.00000\n",
            "225/225 [==============================] - 7s 32ms/step - loss: 5.8246e-07 - accuracy: 1.0000 - val_loss: 0.0198 - val_accuracy: 0.9974\n",
            "Epoch 57/100\n",
            "225/225 [==============================] - ETA: 0s - loss: 4.6203e-07 - accuracy: 1.0000\n",
            "Epoch 57: accuracy did not improve from 1.00000\n",
            "225/225 [==============================] - 7s 32ms/step - loss: 4.6203e-07 - accuracy: 1.0000 - val_loss: 0.0199 - val_accuracy: 0.9974\n",
            "Epoch 58/100\n",
            "225/225 [==============================] - ETA: 0s - loss: 4.0870e-07 - accuracy: 1.0000\n",
            "Epoch 58: accuracy did not improve from 1.00000\n",
            "225/225 [==============================] - 7s 33ms/step - loss: 4.0870e-07 - accuracy: 1.0000 - val_loss: 0.0204 - val_accuracy: 0.9974\n",
            "Epoch 59/100\n",
            "225/225 [==============================] - ETA: 0s - loss: 3.2138e-07 - accuracy: 1.0000\n",
            "Epoch 59: accuracy did not improve from 1.00000\n",
            "225/225 [==============================] - 7s 32ms/step - loss: 3.2138e-07 - accuracy: 1.0000 - val_loss: 0.0206 - val_accuracy: 0.9974\n",
            "Epoch 60/100\n",
            "225/225 [==============================] - ETA: 0s - loss: 2.6550e-07 - accuracy: 1.0000\n",
            "Epoch 60: accuracy did not improve from 1.00000\n",
            "225/225 [==============================] - 7s 32ms/step - loss: 2.6550e-07 - accuracy: 1.0000 - val_loss: 0.0208 - val_accuracy: 0.9974\n",
            "Epoch 61/100\n",
            "225/225 [==============================] - ETA: 0s - loss: 2.2574e-07 - accuracy: 1.0000\n",
            "Epoch 61: accuracy did not improve from 1.00000\n",
            "225/225 [==============================] - 7s 32ms/step - loss: 2.2574e-07 - accuracy: 1.0000 - val_loss: 0.0213 - val_accuracy: 0.9974\n",
            "Epoch 62/100\n",
            "225/225 [==============================] - ETA: 0s - loss: 1.9801e-07 - accuracy: 1.0000\n",
            "Epoch 62: accuracy did not improve from 1.00000\n",
            "225/225 [==============================] - 7s 33ms/step - loss: 1.9801e-07 - accuracy: 1.0000 - val_loss: 0.0219 - val_accuracy: 0.9974\n",
            "Epoch 63/100\n",
            "225/225 [==============================] - ETA: 0s - loss: 1.7238e-07 - accuracy: 1.0000\n",
            "Epoch 63: accuracy did not improve from 1.00000\n",
            "225/225 [==============================] - 7s 32ms/step - loss: 1.7238e-07 - accuracy: 1.0000 - val_loss: 0.0213 - val_accuracy: 0.9974\n",
            "Epoch 64/100\n",
            "225/225 [==============================] - ETA: 0s - loss: 1.4262e-07 - accuracy: 1.0000\n",
            "Epoch 64: accuracy did not improve from 1.00000\n",
            "225/225 [==============================] - 7s 33ms/step - loss: 1.4262e-07 - accuracy: 1.0000 - val_loss: 0.0218 - val_accuracy: 0.9974\n",
            "Epoch 65/100\n",
            "225/225 [==============================] - ETA: 0s - loss: 1.2532e-07 - accuracy: 1.0000\n",
            "Epoch 65: accuracy did not improve from 1.00000\n",
            "225/225 [==============================] - 7s 33ms/step - loss: 1.2532e-07 - accuracy: 1.0000 - val_loss: 0.0220 - val_accuracy: 0.9974\n",
            "Epoch 66/100\n",
            "225/225 [==============================] - ETA: 0s - loss: 1.0896e-07 - accuracy: 1.0000\n",
            "Epoch 66: accuracy did not improve from 1.00000\n",
            "225/225 [==============================] - 7s 32ms/step - loss: 1.0896e-07 - accuracy: 1.0000 - val_loss: 0.0222 - val_accuracy: 0.9974\n",
            "Epoch 67/100\n",
            "225/225 [==============================] - ETA: 0s - loss: 9.7856e-08 - accuracy: 1.0000\n",
            "Epoch 67: accuracy did not improve from 1.00000\n",
            "225/225 [==============================] - 7s 33ms/step - loss: 9.7856e-08 - accuracy: 1.0000 - val_loss: 0.0225 - val_accuracy: 0.9974\n",
            "Epoch 68/100\n",
            "225/225 [==============================] - ETA: 0s - loss: 8.4197e-08 - accuracy: 1.0000\n",
            "Epoch 68: accuracy did not improve from 1.00000\n",
            "225/225 [==============================] - 7s 32ms/step - loss: 8.4197e-08 - accuracy: 1.0000 - val_loss: 0.0227 - val_accuracy: 0.9974\n",
            "Epoch 69/100\n",
            "225/225 [==============================] - ETA: 0s - loss: 7.4394e-08 - accuracy: 1.0000\n",
            "Epoch 69: accuracy did not improve from 1.00000\n",
            "225/225 [==============================] - 7s 33ms/step - loss: 7.4394e-08 - accuracy: 1.0000 - val_loss: 0.0228 - val_accuracy: 0.9974\n",
            "Epoch 70/100\n",
            "225/225 [==============================] - ETA: 0s - loss: 6.5520e-08 - accuracy: 1.0000\n",
            "Epoch 70: accuracy did not improve from 1.00000\n",
            "225/225 [==============================] - 7s 32ms/step - loss: 6.5520e-08 - accuracy: 1.0000 - val_loss: 0.0229 - val_accuracy: 0.9974\n",
            "Epoch 71/100\n",
            "225/225 [==============================] - ETA: 0s - loss: 5.9505e-08 - accuracy: 1.0000\n",
            "Epoch 71: accuracy did not improve from 1.00000\n",
            "225/225 [==============================] - 7s 33ms/step - loss: 5.9505e-08 - accuracy: 1.0000 - val_loss: 0.0230 - val_accuracy: 0.9974\n",
            "Epoch 72/100\n",
            "225/225 [==============================] - ETA: 0s - loss: 5.3755e-08 - accuracy: 1.0000\n",
            "Epoch 72: accuracy did not improve from 1.00000\n",
            "225/225 [==============================] - 7s 32ms/step - loss: 5.3755e-08 - accuracy: 1.0000 - val_loss: 0.0233 - val_accuracy: 0.9974\n",
            "Epoch 73/100\n",
            "225/225 [==============================] - ETA: 0s - loss: 4.7956e-08 - accuracy: 1.0000\n",
            "Epoch 73: accuracy did not improve from 1.00000\n",
            "225/225 [==============================] - 7s 32ms/step - loss: 4.7956e-08 - accuracy: 1.0000 - val_loss: 0.0235 - val_accuracy: 0.9974\n",
            "Epoch 74/100\n",
            "225/225 [==============================] - ETA: 0s - loss: 4.3038e-08 - accuracy: 1.0000\n",
            "Epoch 74: accuracy did not improve from 1.00000\n",
            "225/225 [==============================] - 7s 32ms/step - loss: 4.3038e-08 - accuracy: 1.0000 - val_loss: 0.0236 - val_accuracy: 0.9974\n",
            "Epoch 75/100\n",
            "225/225 [==============================] - ETA: 0s - loss: 3.8152e-08 - accuracy: 1.0000\n",
            "Epoch 75: accuracy did not improve from 1.00000\n",
            "225/225 [==============================] - 7s 32ms/step - loss: 3.8152e-08 - accuracy: 1.0000 - val_loss: 0.0236 - val_accuracy: 0.9974\n",
            "Epoch 76/100\n",
            "225/225 [==============================] - ETA: 0s - loss: 3.4131e-08 - accuracy: 1.0000\n",
            "Epoch 76: accuracy did not improve from 1.00000\n",
            "225/225 [==============================] - 7s 33ms/step - loss: 3.4131e-08 - accuracy: 1.0000 - val_loss: 0.0238 - val_accuracy: 0.9974\n",
            "Epoch 77/100\n",
            "225/225 [==============================] - ETA: 0s - loss: 3.0808e-08 - accuracy: 1.0000\n",
            "Epoch 77: accuracy did not improve from 1.00000\n",
            "225/225 [==============================] - 7s 32ms/step - loss: 3.0808e-08 - accuracy: 1.0000 - val_loss: 0.0241 - val_accuracy: 0.9974\n",
            "Epoch 78/100\n",
            "225/225 [==============================] - ETA: 0s - loss: 2.8099e-08 - accuracy: 1.0000\n",
            "Epoch 78: accuracy did not improve from 1.00000\n",
            "225/225 [==============================] - 7s 33ms/step - loss: 2.8099e-08 - accuracy: 1.0000 - val_loss: 0.0241 - val_accuracy: 0.9974\n",
            "Epoch 79/100\n",
            "225/225 [==============================] - ETA: 0s - loss: 2.5042e-08 - accuracy: 1.0000\n",
            "Epoch 79: accuracy did not improve from 1.00000\n",
            "225/225 [==============================] - 7s 32ms/step - loss: 2.5042e-08 - accuracy: 1.0000 - val_loss: 0.0242 - val_accuracy: 0.9974\n",
            "Epoch 80/100\n",
            "225/225 [==============================] - ETA: 0s - loss: 2.2981e-08 - accuracy: 1.0000\n",
            "Epoch 80: accuracy did not improve from 1.00000\n",
            "225/225 [==============================] - 7s 33ms/step - loss: 2.2981e-08 - accuracy: 1.0000 - val_loss: 0.0244 - val_accuracy: 0.9974\n",
            "Epoch 81/100\n",
            "225/225 [==============================] - ETA: 0s - loss: 2.0871e-08 - accuracy: 1.0000\n",
            "Epoch 81: accuracy did not improve from 1.00000\n",
            "225/225 [==============================] - 8s 35ms/step - loss: 2.0871e-08 - accuracy: 1.0000 - val_loss: 0.0244 - val_accuracy: 0.9974\n",
            "Epoch 82/100\n",
            "225/225 [==============================] - ETA: 0s - loss: 1.8910e-08 - accuracy: 1.0000\n",
            "Epoch 82: accuracy did not improve from 1.00000\n",
            "225/225 [==============================] - 7s 32ms/step - loss: 1.8910e-08 - accuracy: 1.0000 - val_loss: 0.0247 - val_accuracy: 0.9974\n",
            "Epoch 83/100\n",
            "225/225 [==============================] - ETA: 0s - loss: 1.7581e-08 - accuracy: 1.0000\n",
            "Epoch 83: accuracy did not improve from 1.00000\n",
            "225/225 [==============================] - 8s 34ms/step - loss: 1.7581e-08 - accuracy: 1.0000 - val_loss: 0.0247 - val_accuracy: 0.9974\n",
            "Epoch 84/100\n",
            "225/225 [==============================] - ETA: 0s - loss: 1.5454e-08 - accuracy: 1.0000\n",
            "Epoch 84: accuracy did not improve from 1.00000\n",
            "225/225 [==============================] - 7s 32ms/step - loss: 1.5454e-08 - accuracy: 1.0000 - val_loss: 0.0249 - val_accuracy: 0.9974\n",
            "Epoch 85/100\n",
            "225/225 [==============================] - ETA: 0s - loss: 1.4340e-08 - accuracy: 1.0000\n",
            "Epoch 85: accuracy did not improve from 1.00000\n",
            "225/225 [==============================] - 7s 33ms/step - loss: 1.4340e-08 - accuracy: 1.0000 - val_loss: 0.0250 - val_accuracy: 0.9974\n",
            "Epoch 86/100\n",
            "225/225 [==============================] - ETA: 0s - loss: 1.3244e-08 - accuracy: 1.0000\n",
            "Epoch 86: accuracy did not improve from 1.00000\n",
            "225/225 [==============================] - 7s 32ms/step - loss: 1.3244e-08 - accuracy: 1.0000 - val_loss: 0.0250 - val_accuracy: 0.9974\n",
            "Epoch 87/100\n",
            "225/225 [==============================] - ETA: 0s - loss: 1.2197e-08 - accuracy: 1.0000\n",
            "Epoch 87: accuracy did not improve from 1.00000\n",
            "225/225 [==============================] - 7s 33ms/step - loss: 1.2197e-08 - accuracy: 1.0000 - val_loss: 0.0253 - val_accuracy: 0.9974\n",
            "Epoch 88/100\n",
            "225/225 [==============================] - ETA: 0s - loss: 1.0967e-08 - accuracy: 1.0000\n",
            "Epoch 88: accuracy did not improve from 1.00000\n",
            "225/225 [==============================] - 7s 32ms/step - loss: 1.0967e-08 - accuracy: 1.0000 - val_loss: 0.0254 - val_accuracy: 0.9974\n",
            "Epoch 89/100\n",
            "225/225 [==============================] - ETA: 0s - loss: 9.9701e-09 - accuracy: 1.0000\n",
            "Epoch 89: accuracy did not improve from 1.00000\n",
            "225/225 [==============================] - 7s 33ms/step - loss: 9.9701e-09 - accuracy: 1.0000 - val_loss: 0.0256 - val_accuracy: 0.9974\n",
            "Epoch 90/100\n",
            "225/225 [==============================] - ETA: 0s - loss: 9.0063e-09 - accuracy: 1.0000\n",
            "Epoch 90: accuracy did not improve from 1.00000\n",
            "225/225 [==============================] - 7s 32ms/step - loss: 9.0063e-09 - accuracy: 1.0000 - val_loss: 0.0256 - val_accuracy: 0.9974\n",
            "Epoch 91/100\n",
            "225/225 [==============================] - ETA: 0s - loss: 8.3749e-09 - accuracy: 1.0000\n",
            "Epoch 91: accuracy did not improve from 1.00000\n",
            "225/225 [==============================] - 7s 32ms/step - loss: 8.3749e-09 - accuracy: 1.0000 - val_loss: 0.0256 - val_accuracy: 0.9974\n",
            "Epoch 92/100\n",
            "225/225 [==============================] - ETA: 0s - loss: 7.7601e-09 - accuracy: 1.0000\n",
            "Epoch 92: accuracy did not improve from 1.00000\n",
            "225/225 [==============================] - 8s 35ms/step - loss: 7.7601e-09 - accuracy: 1.0000 - val_loss: 0.0258 - val_accuracy: 0.9974\n",
            "Epoch 93/100\n",
            "225/225 [==============================] - ETA: 0s - loss: 6.9957e-09 - accuracy: 1.0000\n",
            "Epoch 93: accuracy did not improve from 1.00000\n",
            "225/225 [==============================] - 7s 32ms/step - loss: 6.9957e-09 - accuracy: 1.0000 - val_loss: 0.0257 - val_accuracy: 0.9974\n",
            "Epoch 94/100\n",
            "225/225 [==============================] - ETA: 0s - loss: 6.5138e-09 - accuracy: 1.0000\n",
            "Epoch 94: accuracy did not improve from 1.00000\n",
            "225/225 [==============================] - 7s 33ms/step - loss: 6.5138e-09 - accuracy: 1.0000 - val_loss: 0.0260 - val_accuracy: 0.9974\n",
            "Epoch 95/100\n",
            "225/225 [==============================] - ETA: 0s - loss: 5.9821e-09 - accuracy: 1.0000\n",
            "Epoch 95: accuracy did not improve from 1.00000\n",
            "225/225 [==============================] - 7s 32ms/step - loss: 5.9821e-09 - accuracy: 1.0000 - val_loss: 0.0259 - val_accuracy: 0.9974\n",
            "Epoch 96/100\n",
            "225/225 [==============================] - ETA: 0s - loss: 5.5500e-09 - accuracy: 1.0000\n",
            "Epoch 96: accuracy did not improve from 1.00000\n",
            "225/225 [==============================] - 7s 33ms/step - loss: 5.5500e-09 - accuracy: 1.0000 - val_loss: 0.0258 - val_accuracy: 0.9974\n",
            "Epoch 97/100\n",
            "225/225 [==============================] - ETA: 0s - loss: 5.0183e-09 - accuracy: 1.0000\n",
            "Epoch 97: accuracy did not improve from 1.00000\n",
            "225/225 [==============================] - 7s 32ms/step - loss: 5.0183e-09 - accuracy: 1.0000 - val_loss: 0.0258 - val_accuracy: 0.9974\n",
            "Epoch 98/100\n",
            "225/225 [==============================] - ETA: 0s - loss: 4.5032e-09 - accuracy: 1.0000\n",
            "Epoch 98: accuracy did not improve from 1.00000\n",
            "225/225 [==============================] - 7s 32ms/step - loss: 4.5032e-09 - accuracy: 1.0000 - val_loss: 0.0258 - val_accuracy: 0.9974\n",
            "Epoch 99/100\n",
            "225/225 [==============================] - ETA: 0s - loss: 4.3204e-09 - accuracy: 1.0000\n",
            "Epoch 99: accuracy did not improve from 1.00000\n",
            "225/225 [==============================] - 8s 35ms/step - loss: 4.3204e-09 - accuracy: 1.0000 - val_loss: 0.0259 - val_accuracy: 0.9974\n",
            "Epoch 100/100\n",
            "225/225 [==============================] - ETA: 0s - loss: 3.9216e-09 - accuracy: 1.0000\n",
            "Epoch 100: accuracy did not improve from 1.00000\n",
            "225/225 [==============================] - 7s 32ms/step - loss: 3.9216e-09 - accuracy: 1.0000 - val_loss: 0.0259 - val_accuracy: 0.9974\n"
          ]
        }
      ]
    },
    {
      "cell_type": "markdown",
      "source": [
        "# **Graph**"
      ],
      "metadata": {
        "id": "-mkfQ4GtbHiG"
      }
    },
    {
      "cell_type": "code",
      "source": [
        "plt.figure()\n",
        "plt.plot(history.history['accuracy'],color ='tab:blue')\n",
        "plt.title('Accuracy Vs Epoch')\n",
        "plt.ylabel('Accuracy')\n",
        "plt.xlabel('Epoch')\n",
        "plt.show()\n",
        "plt.savefig('Accuracy_Vs_Epoch.png',dpi=300)\n",
        "\n",
        "plt.figure()\n",
        "plt.plot(history.history['loss'],color ='tab:red')\n",
        "plt.title('Loss Vs Epoch')\n",
        "plt.ylabel('Loss')\n",
        "plt.xlabel('Epoch')\n",
        "plt.show()\n",
        "plt.savefig('Loss_Vs_Epoch.png',dpi=300)"
      ],
      "metadata": {
        "id": "R6c99JiBbMTq",
        "colab": {
          "base_uri": "https://localhost:8080/",
          "height": 962
        },
        "outputId": "b9d8a8d2-cb44-4556-c5e5-2661906f6a5f"
      },
      "execution_count": 11,
      "outputs": [
        {
          "output_type": "display_data",
          "data": {
            "text/plain": [
              "<Figure size 640x480 with 1 Axes>"
            ],
            "image/png": "[encoded data removed]"
          },
          "metadata": {}
        },
        {
          "output_type": "display_data",
          "data": {
            "text/plain": [
              "<Figure size 640x480 with 0 Axes>"
            ]
          },
          "metadata": {}
        },
        {
          "output_type": "display_data",
          "data": {
            "text/plain": [
              "<Figure size 640x480 with 1 Axes>"
            ],
            "image/png": "[encoded data removed]"
          },
          "metadata": {}
        },
        {
          "output_type": "display_data",
          "data": {
            "text/plain": [
              "<Figure size 640x480 with 0 Axes>"
            ]
          },
          "metadata": {}
        }
      ]
    },
    {
      "cell_type": "markdown",
      "source": [
        "# **Testing & Confusion matrix**"
      ],
      "metadata": {
        "id": "c__bLEHmbVZ2"
      }
    },
    {
      "cell_type": "code",
      "source": [
        "# Evaluate the model on the test set\n",
        "test_loss, test_accuracy = model.evaluate(X_test, y_test, verbose=2)\n",
        "\n",
        "# Generate predictions on the test set\n",
        "y_pred = model.predict(X_test)\n",
        "y_pred_classes = np.argmax(y_pred,axis=1)\n",
        "print(y_test.shape,y_pred.shape,y_pred_classes.shape)\n",
        "\n",
        "# Generate the confusion matrix\n",
        "conf_matrix = confusion_matrix(y_test, y_pred_classes)\n",
        "\n",
        "# Print the confusion matrix\n",
        "print(conf_matrix)\n",
        "\n",
        "\n",
        "#Confusion matrix heatmap\n",
        "plt.figure(figsize=(8, 6))\n",
        "sns.set(font_scale=1)  # Adjust font scale if needed\n",
        "sns.heatmap(conf_matrix, cmap='Blues', annot=True, annot_kws={\"size\": 8}, fmt='d')\n",
        "plt.xlabel('Predicted label')\n",
        "plt.ylabel('True label')\n",
        "plt.title('Confusion Matrix Heatmap')\n",
        "plt.show()\n",
        "plt.savefig('Conf_matrix_heatmap.png',dpi=300)"
      ],
      "metadata": {
        "id": "8UT3oUPtbZxX",
        "colab": {
          "base_uri": "https://localhost:8080/",
          "height": 920
        },
        "outputId": "8adc976f-4793-456f-a76b-40dfa966ddd1"
      },
      "execution_count": 12,
      "outputs": [
        {
          "output_type": "stream",
          "name": "stdout",
          "text": [
            "97/97 - 1s - loss: 0.0259 - accuracy: 0.9974 - 716ms/epoch - 7ms/step\n",
            "97/97 [==============================] - 1s 6ms/step\n",
            "(3075,) (3075, 16) (3075,)\n",
            "[[ 22   0   0   0   0   0   0   0   0   0   0   0   0   0   0   0]\n",
            " [  0 407   0   0   0   0   0   0   0   0   0   0   0   0   0   0]\n",
            " [  0   0 248   0   0   0   0   0   0   3   0   2   0   0   0   0]\n",
            " [  0   0   0  61   0   0   0   0   0   0   0   0   0   0   0   0]\n",
            " [  0   0   0   0 137   0   0   0   0   0   0   0   0   0   0   0]\n",
            " [  0   0   0   0   0 222   0   0   0   0   0   0   0   0   0   0]\n",
            " [  0   0   0   0   0   0   9   0   0   0   0   0   0   0   0   0]\n",
            " [  0   0   0   0   0   0   0 133   0   0   0   0   0   0   0   0]\n",
            " [  0   0   0   0   0   0   0   0   4   0   0   0   0   0   0   0]\n",
            " [  0   0   0   0   0   0   0   0   0 315   0   0   0   0   0   0]\n",
            " [  0   0   0   0   0   0   0   0   0   0 719   0   0   0   0   0]\n",
            " [  0   0   0   0   0   0   0   0   0   0   0 189   0   0   0   2]\n",
            " [  0   0   0   0   0   0   0   0   0   0   0   0  56   0   1   0]\n",
            " [  0   0   0   0   0   0   0   0   0   0   0   0   0 378   0   0]\n",
            " [  0   0   0   0   0   0   0   0   0   0   0   0   0   0 138   0]\n",
            " [  0   0   0   0   0   0   0   0   0   0   0   0   0   0   0  29]]\n"
          ]
        },
        {
          "output_type": "display_data",
          "data": {
            "text/plain": [
              "<Figure size 800x600 with 2 Axes>"
            ],
            "image/png": "[encoded data removed]"
          },
          "metadata": {}
        },
        {
          "output_type": "display_data",
          "data": {
            "text/plain": [
              "<Figure size 640x480 with 0 Axes>"
            ]
          },
          "metadata": {}
        }
      ]
    },
    {
      "cell_type": "markdown",
      "source": [
        "# **Precision, Recall, F1 Score**"
      ],
      "metadata": {
        "id": "yUBov2TRb100"
      }
    },
    {
      "cell_type": "code",
      "source": [
        "# precision = precision_score(y_test,y_pred_classes)\n",
        "# recall = recall_score(y_test,y_pred_classes)\n",
        "# f1 = f1_score(y_test,y_pred_classes)\n",
        "\n",
        "# print('Classification Report')\n",
        "# print(\"Precision: \",precision)\n",
        "# print(\"Recall: \",recall)\n",
        "# print(\"F1 Score: \",f1)\n",
        "\n",
        "\n",
        "report = classification_report(y_test,y_pred_classes)\n",
        "print(report)\n"
      ],
      "metadata": {
        "id": "zkbw5TpEb-ac",
        "colab": {
          "base_uri": "https://localhost:8080/"
        },
        "outputId": "7f4a0d2d-3f59-4fd8-9422-ba168c053c26"
      },
      "execution_count": 13,
      "outputs": [
        {
          "output_type": "stream",
          "name": "stdout",
          "text": [
            "              precision    recall  f1-score   support\n",
            "\n",
            "         0.0       1.00      1.00      1.00        22\n",
            "         1.0       1.00      1.00      1.00       407\n",
            "         2.0       1.00      0.98      0.99       253\n",
            "         3.0       1.00      1.00      1.00        61\n",
            "         4.0       1.00      1.00      1.00       137\n",
            "         5.0       1.00      1.00      1.00       222\n",
            "         6.0       1.00      1.00      1.00         9\n",
            "         7.0       1.00      1.00      1.00       133\n",
            "         8.0       1.00      1.00      1.00         4\n",
            "         9.0       0.99      1.00      1.00       315\n",
            "        10.0       1.00      1.00      1.00       719\n",
            "        11.0       0.99      0.99      0.99       191\n",
            "        12.0       1.00      0.98      0.99        57\n",
            "        13.0       1.00      1.00      1.00       378\n",
            "        14.0       0.99      1.00      1.00       138\n",
            "        15.0       0.94      1.00      0.97        29\n",
            "\n",
            "    accuracy                           1.00      3075\n",
            "   macro avg       0.99      1.00      1.00      3075\n",
            "weighted avg       1.00      1.00      1.00      3075\n",
            "\n"
          ]
        }
      ]
    },
    {
      "cell_type": "markdown",
      "source": [
        "# **Classification report shows**"
      ],
      "metadata": {
        "id": "G3cgvuUevBvj"
      }
    },
    {
      "cell_type": "code",
      "source": [
        "report = classification_report(y_test, y_pred_classes, output_dict=True)\n",
        "report_df = pd.DataFrame(report).transpose()\n",
        "\n",
        "# Plot the classification report\n",
        "fig, ax = plt.subplots(figsize=(8, 5))\n",
        "report_df.plot(kind='bar', ax=ax)\n",
        "plt.title('Classification Report')\n",
        "plt.xlabel('Metrics')\n",
        "plt.ylabel('Score')\n",
        "plt.xticks(rotation=45)\n",
        "plt.legend(loc='upper right')\n",
        "plt.tight_layout()\n",
        "plt.show()"
      ],
      "metadata": {
        "id": "G3cW9wVjvF2i",
        "colab": {
          "base_uri": "https://localhost:8080/",
          "height": 501
        },
        "outputId": "d6166da7-4fc8-4816-f72e-5124e6b1a3eb"
      },
      "execution_count": 14,
      "outputs": [
        {
          "output_type": "display_data",
          "data": {
            "text/plain": [
              "<Figure size 800x500 with 1 Axes>"
            ],
            "image/png": "[encoded data removed]"
          },
          "metadata": {}
        }
      ]
    }
  ]
}