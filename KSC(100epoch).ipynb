{
  "nbformat": 4,
  "nbformat_minor": 0,
  "metadata": {
    "colab": {
      "provenance": [],
      "mount_file_id": "14y-4-ph6E_vphnD4WCf4xVieNDEP_5po",
      "authorship_tag": "ABX9TyN2xqctoEx2EEt0WonVV1FB",
      "include_colab_link": true
    },
    "kernelspec": {
      "name": "python3",
      "display_name": "Python 3"
    },
    "language_info": {
      "name": "python"
    }
  },
  "cells": [
    {
      "cell_type": "markdown",
      "metadata": {
        "id": "view-in-github",
        "colab_type": "text"
      },
      "source": [
        "<a href=\"https://colab.research.google.com/github/Safa06/Thesis/blob/main/KSC(100epoch).ipynb\" target=\"_parent\"><img src=\"https://colab.research.google.com/assets/colab-badge.svg\" alt=\"Open In Colab\"/></a>"
      ]
    },
    {
      "cell_type": "markdown",
      "source": [
        "# **Import Libraries**"
      ],
      "metadata": {
        "id": "8QzLr_-i8Fp6"
      }
    },
    {
      "cell_type": "code",
      "source": [
        "# VGG16\n",
        "#import cv2\n",
        "import tensorflow as tf\n",
        "import seaborn as sns\n",
        "import pandas as pd\n",
        "from sklearn.model_selection import train_test_split\n",
        "from sklearn.preprocessing import StandardScaler\n",
        "#from tensorflow.keras.applications import VGG16\n",
        "from tensorflow.keras.models import Sequential\n",
        "from tensorflow.keras.layers import Flatten, Dense, Dropout\n",
        "from tensorflow.keras.optimizers import Adam\n",
        "from sklearn.decomposition import PCA\n",
        "import scipy.io\n",
        "from scipy.io import loadmat\n",
        "#from skimage.transform import resize\n",
        "from keras.applications.vgg16 import preprocess_input\n",
        "from tensorflow import keras\n",
        "from keras.models import Sequential\n",
        "from keras.layers import Dense, Dropout, Activation, Flatten\n",
        "from keras.layers import Conv2D, MaxPooling2D\n",
        "import numpy as np\n",
        "from sklearn.metrics import confusion_matrix\n",
        "import matplotlib.pyplot as plt\n",
        "from sklearn.metrics import precision_score,recall_score,f1_score\n",
        "from sklearn.metrics import classification_report\n",
        "from keras.callbacks import ModelCheckpoint"
      ],
      "metadata": {
        "id": "e5lPf4n78P1h"
      },
      "execution_count": 1,
      "outputs": []
    },
    {
      "cell_type": "markdown",
      "source": [
        "# **Data Load**"
      ],
      "metadata": {
        "id": "Zt4MMaKV8Y9N"
      }
    },
    {
      "cell_type": "code",
      "source": [
        "# DATA load\n",
        "mat_data1= scipy.io.loadmat('/content/drive/MyDrive/Thdata/KSC_corrected.mat')\n",
        "mat_data2=scipy.io.loadmat('/content/drive/MyDrive/Thdata/KSC_gt.mat')\n",
        "X=mat_data1['KSC']\n",
        "y=mat_data2['KSC_gt']\n",
        "print(X.shape)\n",
        "print(y.shape)\n"
      ],
      "metadata": {
        "colab": {
          "base_uri": "https://localhost:8080/"
        },
        "id": "s_1wathu8b20",
        "outputId": "fae9d3c1-53de-4c00-85aa-7ec66a4f88e6"
      },
      "execution_count": 2,
      "outputs": [
        {
          "output_type": "stream",
          "name": "stdout",
          "text": [
            "(512, 614, 176)\n",
            "(512, 614)\n"
          ]
        }
      ]
    },
    {
      "cell_type": "markdown",
      "source": [
        "# **Apply PCA,Padding**"
      ],
      "metadata": {
        "id": "ZUI2ynit8fpz"
      }
    },
    {
      "cell_type": "code",
      "source": [
        "# Apply PCA to minimize band from 200 to 3 band\n",
        "def applyPCA(X, numComponents=75):\n",
        "    newX = np.reshape(X, (-1, X.shape[2]))\n",
        "    pca = PCA(n_components=numComponents, whiten=True)\n",
        "    newX = pca.fit_transform(newX)\n",
        "    newX = np.reshape(newX, (X.shape[0],X.shape[1], numComponents))\n",
        "    return newX, pca\n",
        "\n",
        "K = 3\n",
        "X,pca= applyPCA(X,numComponents=K)\n",
        "print(X.shape, y.shape)\n",
        "\n",
        "\n",
        "\n",
        "#padding with zero\n",
        "def padWithZeros(X, margin=2):\n",
        "    newX = np.zeros((X.shape[0] + 2 * margin, X.shape[1] + 2* margin, X.shape[2]))\n",
        "    x_offset = margin\n",
        "    y_offset = margin\n",
        "    newX[x_offset:X.shape[0] + x_offset, y_offset:X.shape[1] + y_offset, :] = X\n",
        "    return newX\n"
      ],
      "metadata": {
        "colab": {
          "base_uri": "https://localhost:8080/"
        },
        "id": "1lsYNwIX8kwG",
        "outputId": "0cd09970-86cb-4c45-b23d-bbff09eb2762"
      },
      "execution_count": 3,
      "outputs": [
        {
          "output_type": "stream",
          "name": "stdout",
          "text": [
            "(512, 614, 3) (512, 614)\n"
          ]
        }
      ]
    },
    {
      "cell_type": "markdown",
      "source": [
        "# **Create Patches**"
      ],
      "metadata": {
        "id": "4uOzxTbo8oKC"
      }
    },
    {
      "cell_type": "code",
      "source": [
        "# Window for patches\n",
        "windowSize=23\n",
        "def createImageCubes(X, y, windowSize=5, removeZeroLabels = True):\n",
        "    margin = int((windowSize - 1) / 2)\n",
        "    zeroPaddedX = padWithZeros(X, margin=margin)\n",
        "    # split patches\n",
        "    patchesData = np.zeros((X.shape[0] * X.shape[1], windowSize, windowSize, X.shape[2]))\n",
        "    patchesLabels = np.zeros((X.shape[0] * X.shape[1]))\n",
        "    patchIndex = 0\n",
        "    for r in range(margin, zeroPaddedX.shape[0] - margin):\n",
        "        for c in range(margin, zeroPaddedX.shape[1] - margin):\n",
        "            patch = zeroPaddedX[r - margin:r + margin + 1, c - margin:c + margin + 1]\n",
        "            patchesData[patchIndex, :, :, :] = patch\n",
        "            patchesLabels[patchIndex] = y[r-margin, c-margin]\n",
        "            patchIndex = patchIndex + 1\n",
        "    if removeZeroLabels:\n",
        "        patchesData = patchesData[patchesLabels>0,:,:,:]\n",
        "        patchesLabels = patchesLabels[patchesLabels>0]\n",
        "        patchesLabels -= 1\n",
        "    return patchesData, patchesLabels\n",
        "\n",
        "X, y = createImageCubes(X, y, windowSize=windowSize)\n",
        "#print(X.shape,y.shape)"
      ],
      "metadata": {
        "id": "QfSNBrf28r2Q"
      },
      "execution_count": 4,
      "outputs": []
    },
    {
      "cell_type": "markdown",
      "source": [
        "# **Train-test split**"
      ],
      "metadata": {
        "id": "kdUvNPDU8vRe"
      }
    },
    {
      "cell_type": "code",
      "source": [
        "#Split train-test\n",
        "X_train, X_test, y_train, y_test = train_test_split(\n",
        "    X, y, test_size=0.3, random_state=42)\n",
        "\n",
        "print(X_train.shape,X_test.shape,y_train.shape,y_test.shape)"
      ],
      "metadata": {
        "colab": {
          "base_uri": "https://localhost:8080/"
        },
        "id": "vqaQ424a8yol",
        "outputId": "0142f28d-9a4b-4fe3-ccd2-3948b142883e"
      },
      "execution_count": 5,
      "outputs": [
        {
          "output_type": "stream",
          "name": "stdout",
          "text": [
            "(3647, 23, 23, 3) (1564, 23, 23, 3) (3647,) (1564,)\n"
          ]
        }
      ]
    },
    {
      "cell_type": "markdown",
      "source": [
        "# **Model**"
      ],
      "metadata": {
        "id": "G-eqW4jM811x"
      }
    },
    {
      "cell_type": "code",
      "source": [
        "\n",
        "S = windowSize\n",
        "L = K\n",
        "#output_units = 9 if (dataset == 'PU' or dataset == 'PC') else 16\n",
        "\n",
        "## input layer\n",
        "input_layer = (23,23,3)\n",
        "\n",
        "#for 3D CNN--input_layer=Input(S, S, L, 1)\n",
        "\n",
        "#Model\n",
        "model = Sequential()\n",
        "\n",
        "#Block 1\n",
        "\n",
        "model.add(Conv2D(filters=64, kernel_size=(3,3), activation='relu',padding=\"same\",input_shape=(23,23,3)))\n",
        "model.add(Conv2D(64, kernel_size=(3,3), activation='relu',padding=\"same\"))\n",
        "model.add(MaxPooling2D((2, 2), strides=(2, 2)))\n",
        "\n",
        "# Block 2\n",
        "model.add(Conv2D(128, (3, 3), activation='relu', padding='same'))\n",
        "model.add(Conv2D(128, (3, 3), activation='relu', padding='same'))\n",
        "model.add(MaxPooling2D((2, 2), strides=(2, 2)))\n",
        "\n",
        "# Block 3\n",
        "model.add(Conv2D(256, (3, 3), activation='relu', padding='same'))\n",
        "model.add(Conv2D(256, (3, 3), activation='relu', padding='same'))\n",
        "model.add(Conv2D(256, (3, 3), activation='relu', padding='same'))\n",
        "model.add(MaxPooling2D((2, 2), strides=(2, 2)))\n",
        "\n",
        "# Block 4\n",
        "model.add(Conv2D(512, (3, 3), activation='relu', padding='same'))\n",
        "model.add(Conv2D(512, (3, 3), activation='relu', padding='same'))\n",
        "model.add(Conv2D(512, (3, 3), activation='relu', padding='same'))\n",
        "model.add(MaxPooling2D((2, 2), strides=(2, 2)))\n",
        "\n",
        "# Block 5\n",
        "model.add(Conv2D(512, (3, 3), activation='relu', padding='same'))\n",
        "model.add(Conv2D(512, (3, 3), activation='relu', padding='same'))\n",
        "model.add(Conv2D(512, (3, 3), activation='relu', padding='same'))\n",
        "#model.add(MaxPooling2D((2, 2), strides=(2, 2)))\n",
        "model.add(MaxPooling2D((1, 1), strides=(1, 1)))\n",
        "\n",
        "# Fully connected layers\n",
        "model.add(Flatten())\n",
        "model.add(Dense(units=4096, activation='relu'))\n",
        "model.add(Dense(units=4096, activation='relu'))\n",
        "model.add(Dense(units=13, activation='softmax'))\n",
        "\n",
        "model.build()\n",
        "model.summary()\n",
        "\n",
        "model.compile(optimizer=Adam(learning_rate=0.0001), loss='sparse_categorical_crossentropy', metrics=['accuracy'])\n"
      ],
      "metadata": {
        "colab": {
          "base_uri": "https://localhost:8080/"
        },
        "id": "jnm5_5K789ZD",
        "outputId": "198ea432-6fdf-4ddb-e6d5-b8686aea64d8"
      },
      "execution_count": 6,
      "outputs": [
        {
          "output_type": "stream",
          "name": "stdout",
          "text": [
            "Model: \"sequential\"\n",
            "_________________________________________________________________\n",
            " Layer (type)                Output Shape              Param #   \n",
            "=================================================================\n",
            " conv2d (Conv2D)             (None, 23, 23, 64)        1792      \n",
            "                                                                 \n",
            " conv2d_1 (Conv2D)           (None, 23, 23, 64)        36928     \n",
            "                                                                 \n",
            " max_pooling2d (MaxPooling2  (None, 11, 11, 64)        0         \n",
            " D)                                                              \n",
            "                                                                 \n",
            " conv2d_2 (Conv2D)           (None, 11, 11, 128)       73856     \n",
            "                                                                 \n",
            " conv2d_3 (Conv2D)           (None, 11, 11, 128)       147584    \n",
            "                                                                 \n",
            " max_pooling2d_1 (MaxPoolin  (None, 5, 5, 128)         0         \n",
            " g2D)                                                            \n",
            "                                                                 \n",
            " conv2d_4 (Conv2D)           (None, 5, 5, 256)         295168    \n",
            "                                                                 \n",
            " conv2d_5 (Conv2D)           (None, 5, 5, 256)         590080    \n",
            "                                                                 \n",
            " conv2d_6 (Conv2D)           (None, 5, 5, 256)         590080    \n",
            "                                                                 \n",
            " max_pooling2d_2 (MaxPoolin  (None, 2, 2, 256)         0         \n",
            " g2D)                                                            \n",
            "                                                                 \n",
            " conv2d_7 (Conv2D)           (None, 2, 2, 512)         1180160   \n",
            "                                                                 \n",
            " conv2d_8 (Conv2D)           (None, 2, 2, 512)         2359808   \n",
            "                                                                 \n",
            " conv2d_9 (Conv2D)           (None, 2, 2, 512)         2359808   \n",
            "                                                                 \n",
            " max_pooling2d_3 (MaxPoolin  (None, 1, 1, 512)         0         \n",
            " g2D)                                                            \n",
            "                                                                 \n",
            " conv2d_10 (Conv2D)          (None, 1, 1, 512)         2359808   \n",
            "                                                                 \n",
            " conv2d_11 (Conv2D)          (None, 1, 1, 512)         2359808   \n",
            "                                                                 \n",
            " conv2d_12 (Conv2D)          (None, 1, 1, 512)         2359808   \n",
            "                                                                 \n",
            " max_pooling2d_4 (MaxPoolin  (None, 1, 1, 512)         0         \n",
            " g2D)                                                            \n",
            "                                                                 \n",
            " flatten (Flatten)           (None, 512)               0         \n",
            "                                                                 \n",
            " dense (Dense)               (None, 4096)              2101248   \n",
            "                                                                 \n",
            " dense_1 (Dense)             (None, 4096)              16781312  \n",
            "                                                                 \n",
            " dense_2 (Dense)             (None, 13)                53261     \n",
            "                                                                 \n",
            "=================================================================\n",
            "Total params: 33650509 (128.37 MB)\n",
            "Trainable params: 33650509 (128.37 MB)\n",
            "Non-trainable params: 0 (0.00 Byte)\n",
            "_________________________________________________________________\n"
          ]
        }
      ]
    },
    {
      "cell_type": "markdown",
      "source": [
        "# **Epoch starts**"
      ],
      "metadata": {
        "id": "kxBqHu2Q9A0X"
      }
    },
    {
      "cell_type": "code",
      "source": [
        "# checkpoint for saving epochs\n",
        "filepath = \"best-model.hdf5\"\n",
        "checkpoint = ModelCheckpoint(filepath, monitor='accuracy', verbose=1, save_best_only=True, mode='max')\n",
        "callbacks_list = [checkpoint]\n",
        "\n",
        "history = model.fit(X_train, y_train, epochs=100, validation_data=(X_test,y_test),batch_size=64,callbacks=callbacks_list)"
      ],
      "metadata": {
        "colab": {
          "base_uri": "https://localhost:8080/"
        },
        "id": "Mej5L6Db9DlM",
        "outputId": "d2aefbf1-0df8-448c-cc43-9f499174d377"
      },
      "execution_count": 7,
      "outputs": [
        {
          "output_type": "stream",
          "name": "stdout",
          "text": [
            "Epoch 1/100\n",
            "57/57 [==============================] - ETA: 0s - loss: 2.3015 - accuracy: 0.1796\n",
            "Epoch 1: accuracy improved from -inf to 0.17960, saving model to best-model.hdf5\n"
          ]
        },
        {
          "output_type": "stream",
          "name": "stderr",
          "text": [
            "/usr/local/lib/python3.10/dist-packages/keras/src/engine/training.py:3103: UserWarning: You are saving your model as an HDF5 file via `model.save()`. This file format is considered legacy. We recommend using instead the native Keras format, e.g. `model.save('my_model.keras')`.\n",
            "  saving_api.save_model(\n"
          ]
        },
        {
          "output_type": "stream",
          "name": "stdout",
          "text": [
            "\b\b\b\b\b\b\b\b\b\b\b\b\b\b\b\b\b\b\b\b\b\b\b\b\b\b\b\b\b\b\b\b\b\b\b\b\b\b\b\b\b\b\b\b\b\b\b\b\b\b\b\b\b\b\b\b\b\b\b\b\b\b\b\b\b\b\b\b\b\b\b\b\b\b\b\b\b\b\b\b\b\b\r57/57 [==============================] - 16s 97ms/step - loss: 2.3015 - accuracy: 0.1796 - val_loss: 1.9412 - val_accuracy: 0.3414\n",
            "Epoch 2/100\n",
            "57/57 [==============================] - ETA: 0s - loss: 1.8321 - accuracy: 0.3219\n",
            "Epoch 2: accuracy improved from 0.17960 to 0.32191, saving model to best-model.hdf5\n",
            "57/57 [==============================] - 4s 65ms/step - loss: 1.8321 - accuracy: 0.3219 - val_loss: 1.6787 - val_accuracy: 0.3414\n",
            "Epoch 3/100\n",
            "57/57 [==============================] - ETA: 0s - loss: 1.6177 - accuracy: 0.3927\n",
            "Epoch 3: accuracy improved from 0.32191 to 0.39265, saving model to best-model.hdf5\n",
            "57/57 [==============================] - 10s 171ms/step - loss: 1.6177 - accuracy: 0.3927 - val_loss: 1.7241 - val_accuracy: 0.3421\n",
            "Epoch 4/100\n",
            "56/57 [============================>.] - ETA: 0s - loss: 1.4654 - accuracy: 0.4188\n",
            "Epoch 4: accuracy improved from 0.39265 to 0.42117, saving model to best-model.hdf5\n",
            "57/57 [==============================] - 4s 63ms/step - loss: 1.4601 - accuracy: 0.4212 - val_loss: 1.1806 - val_accuracy: 0.5537\n",
            "Epoch 5/100\n",
            "57/57 [==============================] - ETA: 0s - loss: 1.1313 - accuracy: 0.5459\n",
            "Epoch 5: accuracy improved from 0.42117 to 0.54593, saving model to best-model.hdf5\n",
            "57/57 [==============================] - 4s 68ms/step - loss: 1.1313 - accuracy: 0.5459 - val_loss: 0.9319 - val_accuracy: 0.6790\n",
            "Epoch 6/100\n",
            "57/57 [==============================] - ETA: 0s - loss: 0.8638 - accuracy: 0.6671\n",
            "Epoch 6: accuracy improved from 0.54593 to 0.66712, saving model to best-model.hdf5\n",
            "57/57 [==============================] - 4s 76ms/step - loss: 0.8638 - accuracy: 0.6671 - val_loss: 0.6183 - val_accuracy: 0.8152\n",
            "Epoch 7/100\n",
            "57/57 [==============================] - ETA: 0s - loss: 0.6019 - accuracy: 0.7774\n",
            "Epoch 7: accuracy improved from 0.66712 to 0.77735, saving model to best-model.hdf5\n",
            "57/57 [==============================] - 5s 91ms/step - loss: 0.6019 - accuracy: 0.7774 - val_loss: 0.4327 - val_accuracy: 0.8139\n",
            "Epoch 8/100\n",
            "57/57 [==============================] - ETA: 0s - loss: 0.4223 - accuracy: 0.8443\n",
            "Epoch 8: accuracy improved from 0.77735 to 0.84426, saving model to best-model.hdf5\n",
            "57/57 [==============================] - 5s 91ms/step - loss: 0.4223 - accuracy: 0.8443 - val_loss: 0.3371 - val_accuracy: 0.8702\n",
            "Epoch 9/100\n",
            "56/57 [============================>.] - ETA: 0s - loss: 0.5211 - accuracy: 0.8259\n",
            "Epoch 9: accuracy did not improve from 0.84426\n",
            "57/57 [==============================] - 2s 39ms/step - loss: 0.5254 - accuracy: 0.8240 - val_loss: 1.1291 - val_accuracy: 0.6419\n",
            "Epoch 10/100\n",
            "57/57 [==============================] - ETA: 0s - loss: 0.8156 - accuracy: 0.7428\n",
            "Epoch 10: accuracy did not improve from 0.84426\n",
            "57/57 [==============================] - 2s 37ms/step - loss: 0.8156 - accuracy: 0.7428 - val_loss: 0.4510 - val_accuracy: 0.8485\n",
            "Epoch 11/100\n",
            "57/57 [==============================] - ETA: 0s - loss: 0.3863 - accuracy: 0.9092\n",
            "Epoch 11: accuracy improved from 0.84426 to 0.90924, saving model to best-model.hdf5\n",
            "57/57 [==============================] - 4s 64ms/step - loss: 0.3863 - accuracy: 0.9092 - val_loss: 0.5716 - val_accuracy: 0.7864\n",
            "Epoch 12/100\n",
            "57/57 [==============================] - ETA: 0s - loss: 0.2305 - accuracy: 0.9498\n",
            "Epoch 12: accuracy improved from 0.90924 to 0.94982, saving model to best-model.hdf5\n",
            "57/57 [==============================] - 4s 65ms/step - loss: 0.2305 - accuracy: 0.9498 - val_loss: 0.0851 - val_accuracy: 0.9936\n",
            "Epoch 13/100\n",
            "57/57 [==============================] - ETA: 0s - loss: 0.0497 - accuracy: 0.9973\n",
            "Epoch 13: accuracy improved from 0.94982 to 0.99726, saving model to best-model.hdf5\n",
            "57/57 [==============================] - 5s 81ms/step - loss: 0.0497 - accuracy: 0.9973 - val_loss: 0.0234 - val_accuracy: 1.0000\n",
            "Epoch 14/100\n",
            "56/57 [============================>.] - ETA: 0s - loss: 0.0177 - accuracy: 0.9992\n",
            "Epoch 14: accuracy improved from 0.99726 to 0.99918, saving model to best-model.hdf5\n",
            "57/57 [==============================] - 6s 104ms/step - loss: 0.0178 - accuracy: 0.9992 - val_loss: 0.0098 - val_accuracy: 1.0000\n",
            "Epoch 15/100\n",
            "57/57 [==============================] - ETA: 0s - loss: 1.6942 - accuracy: 0.7557\n",
            "Epoch 15: accuracy did not improve from 0.99918\n",
            "57/57 [==============================] - 2s 41ms/step - loss: 1.6942 - accuracy: 0.7557 - val_loss: 1.0511 - val_accuracy: 0.6087\n",
            "Epoch 16/100\n",
            "57/57 [==============================] - ETA: 0s - loss: 0.6752 - accuracy: 0.7856\n",
            "Epoch 16: accuracy did not improve from 0.99918\n",
            "57/57 [==============================] - 2s 41ms/step - loss: 0.6752 - accuracy: 0.7856 - val_loss: 0.4578 - val_accuracy: 0.8517\n",
            "Epoch 17/100\n",
            "57/57 [==============================] - ETA: 0s - loss: 0.3285 - accuracy: 0.9081\n",
            "Epoch 17: accuracy did not improve from 0.99918\n",
            "57/57 [==============================] - 2s 39ms/step - loss: 0.3285 - accuracy: 0.9081 - val_loss: 0.2095 - val_accuracy: 0.9444\n",
            "Epoch 18/100\n",
            "57/57 [==============================] - ETA: 0s - loss: 0.1403 - accuracy: 0.9720\n",
            "Epoch 18: accuracy did not improve from 0.99918\n",
            "57/57 [==============================] - 2s 38ms/step - loss: 0.1403 - accuracy: 0.9720 - val_loss: 0.0965 - val_accuracy: 0.9744\n",
            "Epoch 19/100\n",
            "57/57 [==============================] - ETA: 0s - loss: 0.0571 - accuracy: 0.9929\n",
            "Epoch 19: accuracy did not improve from 0.99918\n",
            "57/57 [==============================] - 2s 40ms/step - loss: 0.0571 - accuracy: 0.9929 - val_loss: 0.0569 - val_accuracy: 0.9872\n",
            "Epoch 20/100\n",
            "57/57 [==============================] - ETA: 0s - loss: 0.2854 - accuracy: 0.9298\n",
            "Epoch 20: accuracy did not improve from 0.99918\n",
            "57/57 [==============================] - 2s 38ms/step - loss: 0.2854 - accuracy: 0.9298 - val_loss: 0.0822 - val_accuracy: 0.9949\n",
            "Epoch 21/100\n",
            "56/57 [============================>.] - ETA: 0s - loss: 0.0458 - accuracy: 0.9992\n",
            "Epoch 21: accuracy did not improve from 0.99918\n",
            "57/57 [==============================] - 2s 40ms/step - loss: 0.0453 - accuracy: 0.9992 - val_loss: 0.0286 - val_accuracy: 1.0000\n",
            "Epoch 22/100\n",
            "57/57 [==============================] - ETA: 0s - loss: 0.0196 - accuracy: 1.0000\n",
            "Epoch 22: accuracy improved from 0.99918 to 1.00000, saving model to best-model.hdf5\n",
            "57/57 [==============================] - 4s 67ms/step - loss: 0.0196 - accuracy: 1.0000 - val_loss: 0.0152 - val_accuracy: 1.0000\n",
            "Epoch 23/100\n",
            "57/57 [==============================] - ETA: 0s - loss: 0.0109 - accuracy: 1.0000\n",
            "Epoch 23: accuracy did not improve from 1.00000\n",
            "57/57 [==============================] - 2s 42ms/step - loss: 0.0109 - accuracy: 1.0000 - val_loss: 0.0081 - val_accuracy: 1.0000\n",
            "Epoch 24/100\n",
            "57/57 [==============================] - ETA: 0s - loss: 0.0059 - accuracy: 1.0000\n",
            "Epoch 24: accuracy did not improve from 1.00000\n",
            "57/57 [==============================] - 2s 41ms/step - loss: 0.0059 - accuracy: 1.0000 - val_loss: 0.0050 - val_accuracy: 1.0000\n",
            "Epoch 25/100\n",
            "57/57 [==============================] - ETA: 0s - loss: 0.0035 - accuracy: 1.0000\n",
            "Epoch 25: accuracy did not improve from 1.00000\n",
            "57/57 [==============================] - 2s 40ms/step - loss: 0.0035 - accuracy: 1.0000 - val_loss: 0.0039 - val_accuracy: 1.0000\n",
            "Epoch 26/100\n",
            "57/57 [==============================] - ETA: 0s - loss: 0.0022 - accuracy: 1.0000\n",
            "Epoch 26: accuracy did not improve from 1.00000\n",
            "57/57 [==============================] - 2s 38ms/step - loss: 0.0022 - accuracy: 1.0000 - val_loss: 0.0023 - val_accuracy: 1.0000\n",
            "Epoch 27/100\n",
            "57/57 [==============================] - ETA: 0s - loss: 0.0015 - accuracy: 1.0000\n",
            "Epoch 27: accuracy did not improve from 1.00000\n",
            "57/57 [==============================] - 2s 40ms/step - loss: 0.0015 - accuracy: 1.0000 - val_loss: 0.0017 - val_accuracy: 1.0000\n",
            "Epoch 28/100\n",
            "57/57 [==============================] - ETA: 0s - loss: 0.0010 - accuracy: 1.0000\n",
            "Epoch 28: accuracy did not improve from 1.00000\n",
            "57/57 [==============================] - 2s 41ms/step - loss: 0.0010 - accuracy: 1.0000 - val_loss: 0.0013 - val_accuracy: 1.0000\n",
            "Epoch 29/100\n",
            "57/57 [==============================] - ETA: 0s - loss: 7.9463e-04 - accuracy: 1.0000\n",
            "Epoch 29: accuracy did not improve from 1.00000\n",
            "57/57 [==============================] - 2s 41ms/step - loss: 7.9463e-04 - accuracy: 1.0000 - val_loss: 0.0011 - val_accuracy: 1.0000\n",
            "Epoch 30/100\n",
            "57/57 [==============================] - ETA: 0s - loss: 5.7109e-04 - accuracy: 1.0000\n",
            "Epoch 30: accuracy did not improve from 1.00000\n",
            "57/57 [==============================] - 2s 38ms/step - loss: 5.7109e-04 - accuracy: 1.0000 - val_loss: 8.7453e-04 - val_accuracy: 1.0000\n",
            "Epoch 31/100\n",
            "57/57 [==============================] - ETA: 0s - loss: 4.3252e-04 - accuracy: 1.0000\n",
            "Epoch 31: accuracy did not improve from 1.00000\n",
            "57/57 [==============================] - 2s 38ms/step - loss: 4.3252e-04 - accuracy: 1.0000 - val_loss: 7.8606e-04 - val_accuracy: 1.0000\n",
            "Epoch 32/100\n",
            "57/57 [==============================] - ETA: 0s - loss: 3.3826e-04 - accuracy: 1.0000\n",
            "Epoch 32: accuracy did not improve from 1.00000\n",
            "57/57 [==============================] - 2s 38ms/step - loss: 3.3826e-04 - accuracy: 1.0000 - val_loss: 6.9191e-04 - val_accuracy: 1.0000\n",
            "Epoch 33/100\n",
            "57/57 [==============================] - ETA: 0s - loss: 2.6305e-04 - accuracy: 1.0000\n",
            "Epoch 33: accuracy did not improve from 1.00000\n",
            "57/57 [==============================] - 2s 38ms/step - loss: 2.6305e-04 - accuracy: 1.0000 - val_loss: 5.2081e-04 - val_accuracy: 1.0000\n",
            "Epoch 34/100\n",
            "57/57 [==============================] - ETA: 0s - loss: 2.1154e-04 - accuracy: 1.0000\n",
            "Epoch 34: accuracy did not improve from 1.00000\n",
            "57/57 [==============================] - 2s 40ms/step - loss: 2.1154e-04 - accuracy: 1.0000 - val_loss: 4.9434e-04 - val_accuracy: 1.0000\n",
            "Epoch 35/100\n",
            "57/57 [==============================] - ETA: 0s - loss: 1.6852e-04 - accuracy: 1.0000\n",
            "Epoch 35: accuracy did not improve from 1.00000\n",
            "57/57 [==============================] - 2s 41ms/step - loss: 1.6852e-04 - accuracy: 1.0000 - val_loss: 4.5294e-04 - val_accuracy: 1.0000\n",
            "Epoch 36/100\n",
            "57/57 [==============================] - ETA: 0s - loss: 1.3705e-04 - accuracy: 1.0000\n",
            "Epoch 36: accuracy did not improve from 1.00000\n",
            "57/57 [==============================] - 2s 40ms/step - loss: 1.3705e-04 - accuracy: 1.0000 - val_loss: 3.4889e-04 - val_accuracy: 1.0000\n",
            "Epoch 37/100\n",
            "57/57 [==============================] - ETA: 0s - loss: 1.1212e-04 - accuracy: 1.0000\n",
            "Epoch 37: accuracy did not improve from 1.00000\n",
            "57/57 [==============================] - 2s 41ms/step - loss: 1.1212e-04 - accuracy: 1.0000 - val_loss: 3.6642e-04 - val_accuracy: 1.0000\n",
            "Epoch 38/100\n",
            "57/57 [==============================] - ETA: 0s - loss: 9.2192e-05 - accuracy: 1.0000\n",
            "Epoch 38: accuracy did not improve from 1.00000\n",
            "57/57 [==============================] - 2s 41ms/step - loss: 9.2192e-05 - accuracy: 1.0000 - val_loss: 3.3028e-04 - val_accuracy: 1.0000\n",
            "Epoch 39/100\n",
            "57/57 [==============================] - ETA: 0s - loss: 8.0712e-05 - accuracy: 1.0000\n",
            "Epoch 39: accuracy did not improve from 1.00000\n",
            "57/57 [==============================] - 2s 41ms/step - loss: 8.0712e-05 - accuracy: 1.0000 - val_loss: 3.1546e-04 - val_accuracy: 1.0000\n",
            "Epoch 40/100\n",
            "57/57 [==============================] - ETA: 0s - loss: 6.7036e-05 - accuracy: 1.0000\n",
            "Epoch 40: accuracy did not improve from 1.00000\n",
            "57/57 [==============================] - 2s 41ms/step - loss: 6.7036e-05 - accuracy: 1.0000 - val_loss: 2.6289e-04 - val_accuracy: 1.0000\n",
            "Epoch 41/100\n",
            "57/57 [==============================] - ETA: 0s - loss: 5.7946e-05 - accuracy: 1.0000\n",
            "Epoch 41: accuracy did not improve from 1.00000\n",
            "57/57 [==============================] - 2s 42ms/step - loss: 5.7946e-05 - accuracy: 1.0000 - val_loss: 2.4485e-04 - val_accuracy: 1.0000\n",
            "Epoch 42/100\n",
            "57/57 [==============================] - ETA: 0s - loss: 5.2038e-05 - accuracy: 1.0000\n",
            "Epoch 42: accuracy did not improve from 1.00000\n",
            "57/57 [==============================] - 2s 41ms/step - loss: 5.2038e-05 - accuracy: 1.0000 - val_loss: 2.6166e-04 - val_accuracy: 1.0000\n",
            "Epoch 43/100\n",
            "57/57 [==============================] - ETA: 0s - loss: 4.6194e-05 - accuracy: 1.0000\n",
            "Epoch 43: accuracy did not improve from 1.00000\n",
            "57/57 [==============================] - 2s 39ms/step - loss: 4.6194e-05 - accuracy: 1.0000 - val_loss: 2.0819e-04 - val_accuracy: 1.0000\n",
            "Epoch 44/100\n",
            "57/57 [==============================] - ETA: 0s - loss: 4.2132e-05 - accuracy: 1.0000\n",
            "Epoch 44: accuracy did not improve from 1.00000\n",
            "57/57 [==============================] - 2s 41ms/step - loss: 4.2132e-05 - accuracy: 1.0000 - val_loss: 2.6450e-04 - val_accuracy: 1.0000\n",
            "Epoch 45/100\n",
            "57/57 [==============================] - ETA: 0s - loss: 3.4481e-05 - accuracy: 1.0000\n",
            "Epoch 45: accuracy did not improve from 1.00000\n",
            "57/57 [==============================] - 2s 41ms/step - loss: 3.4481e-05 - accuracy: 1.0000 - val_loss: 1.9262e-04 - val_accuracy: 1.0000\n",
            "Epoch 46/100\n",
            "57/57 [==============================] - ETA: 0s - loss: 3.1093e-05 - accuracy: 1.0000\n",
            "Epoch 46: accuracy did not improve from 1.00000\n",
            "57/57 [==============================] - 2s 41ms/step - loss: 3.1093e-05 - accuracy: 1.0000 - val_loss: 1.6554e-04 - val_accuracy: 1.0000\n",
            "Epoch 47/100\n",
            "57/57 [==============================] - ETA: 0s - loss: 2.7736e-05 - accuracy: 1.0000\n",
            "Epoch 47: accuracy did not improve from 1.00000\n",
            "57/57 [==============================] - 2s 42ms/step - loss: 2.7736e-05 - accuracy: 1.0000 - val_loss: 1.7554e-04 - val_accuracy: 1.0000\n",
            "Epoch 48/100\n",
            "57/57 [==============================] - ETA: 0s - loss: 2.4924e-05 - accuracy: 1.0000\n",
            "Epoch 48: accuracy did not improve from 1.00000\n",
            "57/57 [==============================] - 2s 43ms/step - loss: 2.4924e-05 - accuracy: 1.0000 - val_loss: 1.4997e-04 - val_accuracy: 1.0000\n",
            "Epoch 49/100\n",
            "57/57 [==============================] - ETA: 0s - loss: 2.2198e-05 - accuracy: 1.0000\n",
            "Epoch 49: accuracy did not improve from 1.00000\n",
            "57/57 [==============================] - 2s 42ms/step - loss: 2.2198e-05 - accuracy: 1.0000 - val_loss: 2.0207e-04 - val_accuracy: 1.0000\n",
            "Epoch 50/100\n",
            "57/57 [==============================] - ETA: 0s - loss: 2.1057e-05 - accuracy: 1.0000\n",
            "Epoch 50: accuracy did not improve from 1.00000\n",
            "57/57 [==============================] - 2s 39ms/step - loss: 2.1057e-05 - accuracy: 1.0000 - val_loss: 1.4555e-04 - val_accuracy: 1.0000\n",
            "Epoch 51/100\n",
            "57/57 [==============================] - ETA: 0s - loss: 1.8003e-05 - accuracy: 1.0000\n",
            "Epoch 51: accuracy did not improve from 1.00000\n",
            "57/57 [==============================] - 2s 41ms/step - loss: 1.8003e-05 - accuracy: 1.0000 - val_loss: 1.9820e-04 - val_accuracy: 1.0000\n",
            "Epoch 52/100\n",
            "57/57 [==============================] - ETA: 0s - loss: 1.6050e-05 - accuracy: 1.0000\n",
            "Epoch 52: accuracy did not improve from 1.00000\n",
            "57/57 [==============================] - 2s 44ms/step - loss: 1.6050e-05 - accuracy: 1.0000 - val_loss: 2.6780e-04 - val_accuracy: 1.0000\n",
            "Epoch 53/100\n",
            "57/57 [==============================] - ETA: 0s - loss: 1.5869e-05 - accuracy: 1.0000\n",
            "Epoch 53: accuracy did not improve from 1.00000\n",
            "57/57 [==============================] - 3s 44ms/step - loss: 1.5869e-05 - accuracy: 1.0000 - val_loss: 1.2117e-04 - val_accuracy: 1.0000\n",
            "Epoch 54/100\n",
            "57/57 [==============================] - ETA: 0s - loss: 1.3967e-05 - accuracy: 1.0000\n",
            "Epoch 54: accuracy did not improve from 1.00000\n",
            "57/57 [==============================] - 2s 42ms/step - loss: 1.3967e-05 - accuracy: 1.0000 - val_loss: 1.2016e-04 - val_accuracy: 1.0000\n",
            "Epoch 55/100\n",
            "57/57 [==============================] - ETA: 0s - loss: 1.2706e-05 - accuracy: 1.0000\n",
            "Epoch 55: accuracy did not improve from 1.00000\n",
            "57/57 [==============================] - 2s 42ms/step - loss: 1.2706e-05 - accuracy: 1.0000 - val_loss: 1.3286e-04 - val_accuracy: 1.0000\n",
            "Epoch 56/100\n",
            "57/57 [==============================] - ETA: 0s - loss: 1.1509e-05 - accuracy: 1.0000\n",
            "Epoch 56: accuracy did not improve from 1.00000\n",
            "57/57 [==============================] - 2s 41ms/step - loss: 1.1509e-05 - accuracy: 1.0000 - val_loss: 1.1507e-04 - val_accuracy: 1.0000\n",
            "Epoch 57/100\n",
            "57/57 [==============================] - ETA: 0s - loss: 1.1042e-05 - accuracy: 1.0000\n",
            "Epoch 57: accuracy did not improve from 1.00000\n",
            "57/57 [==============================] - 2s 39ms/step - loss: 1.1042e-05 - accuracy: 1.0000 - val_loss: 1.1826e-04 - val_accuracy: 1.0000\n",
            "Epoch 58/100\n",
            "57/57 [==============================] - ETA: 0s - loss: 1.0134e-05 - accuracy: 1.0000\n",
            "Epoch 58: accuracy did not improve from 1.00000\n",
            "57/57 [==============================] - 2s 41ms/step - loss: 1.0134e-05 - accuracy: 1.0000 - val_loss: 1.4639e-04 - val_accuracy: 1.0000\n",
            "Epoch 59/100\n",
            "57/57 [==============================] - ETA: 0s - loss: 9.0090e-06 - accuracy: 1.0000\n",
            "Epoch 59: accuracy did not improve from 1.00000\n",
            "57/57 [==============================] - 2s 41ms/step - loss: 9.0090e-06 - accuracy: 1.0000 - val_loss: 1.4425e-04 - val_accuracy: 1.0000\n",
            "Epoch 60/100\n",
            "57/57 [==============================] - ETA: 0s - loss: 8.2584e-06 - accuracy: 1.0000\n",
            "Epoch 60: accuracy did not improve from 1.00000\n",
            "57/57 [==============================] - 2s 41ms/step - loss: 8.2584e-06 - accuracy: 1.0000 - val_loss: 9.4186e-05 - val_accuracy: 1.0000\n",
            "Epoch 61/100\n",
            "57/57 [==============================] - ETA: 0s - loss: 7.8388e-06 - accuracy: 1.0000\n",
            "Epoch 61: accuracy did not improve from 1.00000\n",
            "57/57 [==============================] - 2s 40ms/step - loss: 7.8388e-06 - accuracy: 1.0000 - val_loss: 1.1493e-04 - val_accuracy: 1.0000\n",
            "Epoch 62/100\n",
            "57/57 [==============================] - ETA: 0s - loss: 7.5940e-06 - accuracy: 1.0000\n",
            "Epoch 62: accuracy did not improve from 1.00000\n",
            "57/57 [==============================] - 2s 41ms/step - loss: 7.5940e-06 - accuracy: 1.0000 - val_loss: 1.1035e-04 - val_accuracy: 1.0000\n",
            "Epoch 63/100\n",
            "57/57 [==============================] - ETA: 0s - loss: 6.9397e-06 - accuracy: 1.0000\n",
            "Epoch 63: accuracy did not improve from 1.00000\n",
            "57/57 [==============================] - 2s 41ms/step - loss: 6.9397e-06 - accuracy: 1.0000 - val_loss: 9.7159e-05 - val_accuracy: 1.0000\n",
            "Epoch 64/100\n",
            "57/57 [==============================] - ETA: 0s - loss: 6.4195e-06 - accuracy: 1.0000\n",
            "Epoch 64: accuracy did not improve from 1.00000\n",
            "57/57 [==============================] - 2s 41ms/step - loss: 6.4195e-06 - accuracy: 1.0000 - val_loss: 9.0595e-05 - val_accuracy: 1.0000\n",
            "Epoch 65/100\n",
            "57/57 [==============================] - ETA: 0s - loss: 5.9387e-06 - accuracy: 1.0000\n",
            "Epoch 65: accuracy did not improve from 1.00000\n",
            "57/57 [==============================] - 2s 41ms/step - loss: 5.9387e-06 - accuracy: 1.0000 - val_loss: 1.1487e-04 - val_accuracy: 1.0000\n",
            "Epoch 66/100\n",
            "57/57 [==============================] - ETA: 0s - loss: 5.6934e-06 - accuracy: 1.0000\n",
            "Epoch 66: accuracy did not improve from 1.00000\n",
            "57/57 [==============================] - 2s 43ms/step - loss: 5.6934e-06 - accuracy: 1.0000 - val_loss: 9.7436e-05 - val_accuracy: 1.0000\n",
            "Epoch 67/100\n",
            "57/57 [==============================] - ETA: 0s - loss: 5.2449e-06 - accuracy: 1.0000\n",
            "Epoch 67: accuracy did not improve from 1.00000\n",
            "57/57 [==============================] - 2s 42ms/step - loss: 5.2449e-06 - accuracy: 1.0000 - val_loss: 1.0049e-04 - val_accuracy: 1.0000\n",
            "Epoch 68/100\n",
            "57/57 [==============================] - ETA: 0s - loss: 5.1213e-06 - accuracy: 1.0000\n",
            "Epoch 68: accuracy did not improve from 1.00000\n",
            "57/57 [==============================] - 2s 39ms/step - loss: 5.1213e-06 - accuracy: 1.0000 - val_loss: 9.4485e-05 - val_accuracy: 1.0000\n",
            "Epoch 69/100\n",
            "57/57 [==============================] - ETA: 0s - loss: 4.7540e-06 - accuracy: 1.0000\n",
            "Epoch 69: accuracy did not improve from 1.00000\n",
            "57/57 [==============================] - 2s 39ms/step - loss: 4.7540e-06 - accuracy: 1.0000 - val_loss: 1.1343e-04 - val_accuracy: 1.0000\n",
            "Epoch 70/100\n",
            "57/57 [==============================] - ETA: 0s - loss: 4.4182e-06 - accuracy: 1.0000\n",
            "Epoch 70: accuracy did not improve from 1.00000\n",
            "57/57 [==============================] - 2s 41ms/step - loss: 4.4182e-06 - accuracy: 1.0000 - val_loss: 8.1530e-05 - val_accuracy: 1.0000\n",
            "Epoch 71/100\n",
            "57/57 [==============================] - ETA: 0s - loss: 4.2325e-06 - accuracy: 1.0000\n",
            "Epoch 71: accuracy did not improve from 1.00000\n",
            "57/57 [==============================] - 2s 39ms/step - loss: 4.2325e-06 - accuracy: 1.0000 - val_loss: 9.7130e-05 - val_accuracy: 1.0000\n",
            "Epoch 72/100\n",
            "57/57 [==============================] - ETA: 0s - loss: 3.8448e-06 - accuracy: 1.0000\n",
            "Epoch 72: accuracy did not improve from 1.00000\n",
            "57/57 [==============================] - 2s 43ms/step - loss: 3.8448e-06 - accuracy: 1.0000 - val_loss: 1.2858e-04 - val_accuracy: 1.0000\n",
            "Epoch 73/100\n",
            "57/57 [==============================] - ETA: 0s - loss: 3.6318e-06 - accuracy: 1.0000\n",
            "Epoch 73: accuracy did not improve from 1.00000\n",
            "57/57 [==============================] - 2s 41ms/step - loss: 3.6318e-06 - accuracy: 1.0000 - val_loss: 8.7870e-05 - val_accuracy: 1.0000\n",
            "Epoch 74/100\n",
            "57/57 [==============================] - ETA: 0s - loss: 3.6285e-06 - accuracy: 1.0000\n",
            "Epoch 74: accuracy did not improve from 1.00000\n",
            "57/57 [==============================] - 2s 39ms/step - loss: 3.6285e-06 - accuracy: 1.0000 - val_loss: 1.1365e-04 - val_accuracy: 1.0000\n",
            "Epoch 75/100\n",
            "57/57 [==============================] - ETA: 0s - loss: 3.2587e-06 - accuracy: 1.0000\n",
            "Epoch 75: accuracy did not improve from 1.00000\n",
            "57/57 [==============================] - 2s 39ms/step - loss: 3.2587e-06 - accuracy: 1.0000 - val_loss: 7.8318e-05 - val_accuracy: 1.0000\n",
            "Epoch 76/100\n",
            "57/57 [==============================] - ETA: 0s - loss: 3.0517e-06 - accuracy: 1.0000\n",
            "Epoch 76: accuracy did not improve from 1.00000\n",
            "57/57 [==============================] - 2s 41ms/step - loss: 3.0517e-06 - accuracy: 1.0000 - val_loss: 8.2468e-05 - val_accuracy: 1.0000\n",
            "Epoch 77/100\n",
            "57/57 [==============================] - ETA: 0s - loss: 3.0486e-06 - accuracy: 1.0000\n",
            "Epoch 77: accuracy did not improve from 1.00000\n",
            "57/57 [==============================] - 2s 39ms/step - loss: 3.0486e-06 - accuracy: 1.0000 - val_loss: 9.2042e-05 - val_accuracy: 1.0000\n",
            "Epoch 78/100\n",
            "57/57 [==============================] - ETA: 0s - loss: 2.8513e-06 - accuracy: 1.0000\n",
            "Epoch 78: accuracy did not improve from 1.00000\n",
            "57/57 [==============================] - 2s 42ms/step - loss: 2.8513e-06 - accuracy: 1.0000 - val_loss: 7.6922e-05 - val_accuracy: 1.0000\n",
            "Epoch 79/100\n",
            "57/57 [==============================] - ETA: 0s - loss: 2.6996e-06 - accuracy: 1.0000\n",
            "Epoch 79: accuracy did not improve from 1.00000\n",
            "57/57 [==============================] - 2s 43ms/step - loss: 2.6996e-06 - accuracy: 1.0000 - val_loss: 7.9460e-05 - val_accuracy: 1.0000\n",
            "Epoch 80/100\n",
            "57/57 [==============================] - ETA: 0s - loss: 2.5419e-06 - accuracy: 1.0000\n",
            "Epoch 80: accuracy did not improve from 1.00000\n",
            "57/57 [==============================] - 2s 40ms/step - loss: 2.5419e-06 - accuracy: 1.0000 - val_loss: 1.2089e-04 - val_accuracy: 1.0000\n",
            "Epoch 81/100\n",
            "57/57 [==============================] - ETA: 0s - loss: 2.5659e-06 - accuracy: 1.0000\n",
            "Epoch 81: accuracy did not improve from 1.00000\n",
            "57/57 [==============================] - 2s 41ms/step - loss: 2.5659e-06 - accuracy: 1.0000 - val_loss: 6.9474e-05 - val_accuracy: 1.0000\n",
            "Epoch 82/100\n",
            "57/57 [==============================] - ETA: 0s - loss: 2.4046e-06 - accuracy: 1.0000\n",
            "Epoch 82: accuracy did not improve from 1.00000\n",
            "57/57 [==============================] - 2s 41ms/step - loss: 2.4046e-06 - accuracy: 1.0000 - val_loss: 7.5510e-05 - val_accuracy: 1.0000\n",
            "Epoch 83/100\n",
            "57/57 [==============================] - ETA: 0s - loss: 2.2342e-06 - accuracy: 1.0000\n",
            "Epoch 83: accuracy did not improve from 1.00000\n",
            "57/57 [==============================] - 2s 41ms/step - loss: 2.2342e-06 - accuracy: 1.0000 - val_loss: 1.0880e-04 - val_accuracy: 1.0000\n",
            "Epoch 84/100\n",
            "57/57 [==============================] - ETA: 0s - loss: 2.0411e-06 - accuracy: 1.0000\n",
            "Epoch 84: accuracy did not improve from 1.00000\n",
            "57/57 [==============================] - 2s 41ms/step - loss: 2.0411e-06 - accuracy: 1.0000 - val_loss: 9.6699e-05 - val_accuracy: 1.0000\n",
            "Epoch 85/100\n",
            "57/57 [==============================] - ETA: 0s - loss: 1.9736e-06 - accuracy: 1.0000\n",
            "Epoch 85: accuracy did not improve from 1.00000\n",
            "57/57 [==============================] - 2s 43ms/step - loss: 1.9736e-06 - accuracy: 1.0000 - val_loss: 7.0673e-05 - val_accuracy: 1.0000\n",
            "Epoch 86/100\n",
            "57/57 [==============================] - ETA: 0s - loss: 1.8289e-06 - accuracy: 1.0000\n",
            "Epoch 86: accuracy did not improve from 1.00000\n",
            "57/57 [==============================] - 2s 40ms/step - loss: 1.8289e-06 - accuracy: 1.0000 - val_loss: 5.8710e-05 - val_accuracy: 1.0000\n",
            "Epoch 87/100\n",
            "57/57 [==============================] - ETA: 0s - loss: 1.7417e-06 - accuracy: 1.0000\n",
            "Epoch 87: accuracy did not improve from 1.00000\n",
            "57/57 [==============================] - 2s 41ms/step - loss: 1.7417e-06 - accuracy: 1.0000 - val_loss: 8.5114e-05 - val_accuracy: 1.0000\n",
            "Epoch 88/100\n",
            "57/57 [==============================] - ETA: 0s - loss: 1.7698e-06 - accuracy: 1.0000\n",
            "Epoch 88: accuracy did not improve from 1.00000\n",
            "57/57 [==============================] - 2s 39ms/step - loss: 1.7698e-06 - accuracy: 1.0000 - val_loss: 6.2873e-05 - val_accuracy: 1.0000\n",
            "Epoch 89/100\n",
            "57/57 [==============================] - ETA: 0s - loss: 1.5725e-06 - accuracy: 1.0000\n",
            "Epoch 89: accuracy did not improve from 1.00000\n",
            "57/57 [==============================] - 2s 39ms/step - loss: 1.5725e-06 - accuracy: 1.0000 - val_loss: 7.2979e-05 - val_accuracy: 1.0000\n",
            "Epoch 90/100\n",
            "57/57 [==============================] - ETA: 0s - loss: 1.5428e-06 - accuracy: 1.0000\n",
            "Epoch 90: accuracy did not improve from 1.00000\n",
            "57/57 [==============================] - 2s 39ms/step - loss: 1.5428e-06 - accuracy: 1.0000 - val_loss: 1.0380e-04 - val_accuracy: 1.0000\n",
            "Epoch 91/100\n",
            "57/57 [==============================] - ETA: 0s - loss: 1.5387e-06 - accuracy: 1.0000\n",
            "Epoch 91: accuracy did not improve from 1.00000\n",
            "57/57 [==============================] - 2s 43ms/step - loss: 1.5387e-06 - accuracy: 1.0000 - val_loss: 5.4590e-05 - val_accuracy: 1.0000\n",
            "Epoch 92/100\n",
            "57/57 [==============================] - ETA: 0s - loss: 1.3859e-06 - accuracy: 1.0000\n",
            "Epoch 92: accuracy did not improve from 1.00000\n",
            "57/57 [==============================] - 2s 40ms/step - loss: 1.3859e-06 - accuracy: 1.0000 - val_loss: 7.5912e-05 - val_accuracy: 1.0000\n",
            "Epoch 93/100\n",
            "57/57 [==============================] - ETA: 0s - loss: 1.3465e-06 - accuracy: 1.0000\n",
            "Epoch 93: accuracy did not improve from 1.00000\n",
            "57/57 [==============================] - 2s 39ms/step - loss: 1.3465e-06 - accuracy: 1.0000 - val_loss: 5.3554e-05 - val_accuracy: 1.0000\n",
            "Epoch 94/100\n",
            "57/57 [==============================] - ETA: 0s - loss: 1.3312e-06 - accuracy: 1.0000\n",
            "Epoch 94: accuracy did not improve from 1.00000\n",
            "57/57 [==============================] - 2s 41ms/step - loss: 1.3312e-06 - accuracy: 1.0000 - val_loss: 6.2786e-05 - val_accuracy: 1.0000\n",
            "Epoch 95/100\n",
            "57/57 [==============================] - ETA: 0s - loss: 1.2432e-06 - accuracy: 1.0000\n",
            "Epoch 95: accuracy did not improve from 1.00000\n",
            "57/57 [==============================] - 2s 41ms/step - loss: 1.2432e-06 - accuracy: 1.0000 - val_loss: 5.7898e-05 - val_accuracy: 1.0000\n",
            "Epoch 96/100\n",
            "57/57 [==============================] - ETA: 0s - loss: 1.1734e-06 - accuracy: 1.0000\n",
            "Epoch 96: accuracy did not improve from 1.00000\n",
            "57/57 [==============================] - 2s 41ms/step - loss: 1.1734e-06 - accuracy: 1.0000 - val_loss: 8.4115e-05 - val_accuracy: 1.0000\n",
            "Epoch 97/100\n",
            "57/57 [==============================] - ETA: 0s - loss: 1.0900e-06 - accuracy: 1.0000\n",
            "Epoch 97: accuracy did not improve from 1.00000\n",
            "57/57 [==============================] - 2s 41ms/step - loss: 1.0900e-06 - accuracy: 1.0000 - val_loss: 4.5538e-05 - val_accuracy: 1.0000\n",
            "Epoch 98/100\n",
            "57/57 [==============================] - ETA: 0s - loss: 1.0610e-06 - accuracy: 1.0000\n",
            "Epoch 98: accuracy did not improve from 1.00000\n",
            "57/57 [==============================] - 2s 41ms/step - loss: 1.0610e-06 - accuracy: 1.0000 - val_loss: 6.3466e-05 - val_accuracy: 1.0000\n",
            "Epoch 99/100\n",
            "57/57 [==============================] - ETA: 0s - loss: 9.9936e-07 - accuracy: 1.0000\n",
            "Epoch 99: accuracy did not improve from 1.00000\n",
            "57/57 [==============================] - 2s 42ms/step - loss: 9.9936e-07 - accuracy: 1.0000 - val_loss: 6.5122e-05 - val_accuracy: 1.0000\n",
            "Epoch 100/100\n",
            "57/57 [==============================] - ETA: 0s - loss: 9.7281e-07 - accuracy: 1.0000\n",
            "Epoch 100: accuracy did not improve from 1.00000\n",
            "57/57 [==============================] - 2s 40ms/step - loss: 9.7281e-07 - accuracy: 1.0000 - val_loss: 5.0784e-05 - val_accuracy: 1.0000\n"
          ]
        }
      ]
    },
    {
      "cell_type": "markdown",
      "source": [
        "# **Graph**"
      ],
      "metadata": {
        "id": "4GVrBDJg9Ll_"
      }
    },
    {
      "cell_type": "code",
      "source": [
        "plt.figure()\n",
        "plt.plot(history.history['accuracy'],color ='tab:blue')\n",
        "plt.title('Accuracy Vs Epoch')\n",
        "plt.ylabel('Accuracy')\n",
        "plt.xlabel('Epoch')\n",
        "plt.show()\n",
        "plt.savefig('Accuracy_Vs-Epoch.png',dpi=300)\n",
        "\n",
        "plt.figure()\n",
        "plt.plot(history.history['loss'],color ='tab:red')\n",
        "plt.title('Loss Vs Epoch')\n",
        "plt.ylabel('Loss')\n",
        "plt.xlabel('Epoch')\n",
        "plt.show()\n",
        "plt.savefig('Loss_Vs-Epoch.png',dpi=300)"
      ],
      "metadata": {
        "id": "lRgPtcTY9OJE",
        "colab": {
          "base_uri": "https://localhost:8080/",
          "height": 962
        },
        "outputId": "790d8a10-5073-44ea-9189-3efd0ac6f067"
      },
      "execution_count": 8,
      "outputs": [
        {
          "output_type": "display_data",
          "data": {
            "text/plain": [
              "<Figure size 640x480 with 1 Axes>"
            ],
            "image/png": "[encoded data removed]"
          },
          "metadata": {}
        },
        {
          "output_type": "display_data",
          "data": {
            "text/plain": [
              "<Figure size 640x480 with 0 Axes>"
            ]
          },
          "metadata": {}
        },
        {
          "output_type": "display_data",
          "data": {
            "text/plain": [
              "<Figure size 640x480 with 1 Axes>"
            ],
            "image/png": "[encoded data removed]"
          },
          "metadata": {}
        },
        {
          "output_type": "display_data",
          "data": {
            "text/plain": [
              "<Figure size 640x480 with 0 Axes>"
            ]
          },
          "metadata": {}
        }
      ]
    },
    {
      "cell_type": "markdown",
      "source": [
        "# **Testing & Confusion Matrix**"
      ],
      "metadata": {
        "id": "HKVj7o689uTJ"
      }
    },
    {
      "cell_type": "code",
      "execution_count": 9,
      "metadata": {
        "id": "XLZnmDRxPeDT",
        "colab": {
          "base_uri": "https://localhost:8080/",
          "height": 868
        },
        "outputId": "b7408e6d-b3eb-407f-982c-e2a9775c6d16"
      },
      "outputs": [
        {
          "output_type": "stream",
          "name": "stdout",
          "text": [
            "49/49 - 1s - loss: 5.0784e-05 - accuracy: 1.0000 - 879ms/epoch - 18ms/step\n",
            "49/49 [==============================] - 0s 5ms/step\n",
            "(1564,) (1564, 13) (1564,)\n",
            "[[246   0   0   0   0   0   0   0   0   0   0   0   0]\n",
            " [  0  62   0   0   0   0   0   0   0   0   0   0   0]\n",
            " [  0   0  65   0   0   0   0   0   0   0   0   0   0]\n",
            " [  0   0   0  82   0   0   0   0   0   0   0   0   0]\n",
            " [  0   0   0   0  47   0   0   0   0   0   0   0   0]\n",
            " [  0   0   0   0   0  74   0   0   0   0   0   0   0]\n",
            " [  0   0   0   0   0   0  30   0   0   0   0   0   0]\n",
            " [  0   0   0   0   0   0   0 127   0   0   0   0   0]\n",
            " [  0   0   0   0   0   0   0   0 146   0   0   0   0]\n",
            " [  0   0   0   0   0   0   0   0   0 127   0   0   0]\n",
            " [  0   0   0   0   0   0   0   0   0   0 110   0   0]\n",
            " [  0   0   0   0   0   0   0   0   0   0   0 160   0]\n",
            " [  0   0   0   0   0   0   0   0   0   0   0   0 288]]\n"
          ]
        },
        {
          "output_type": "display_data",
          "data": {
            "text/plain": [
              "<Figure size 800x600 with 2 Axes>"
            ],
            "image/png": "[encoded data removed]"
          },
          "metadata": {}
        },
        {
          "output_type": "display_data",
          "data": {
            "text/plain": [
              "<Figure size 640x480 with 0 Axes>"
            ]
          },
          "metadata": {}
        }
      ],
      "source": [
        "# Evaluate the model on the test set\n",
        "test_loss, test_accuracy = model.evaluate(X_test, y_test, verbose=2)\n",
        "\n",
        "# Generate predictions on the test set\n",
        "y_pred = model.predict(X_test)\n",
        "y_pred_classes = np.argmax(y_pred,axis=1)\n",
        "print(y_test.shape,y_pred.shape,y_pred_classes.shape)\n",
        "\n",
        "# Generate the confusion matrix\n",
        "conf_matrix = confusion_matrix(y_test, y_pred_classes)\n",
        "\n",
        "# Print the confusion matrix\n",
        "print(conf_matrix)\n",
        "\n",
        "\n",
        "#Confusion matrix heatmap\n",
        "\n",
        "plt.figure(figsize=(8, 6))\n",
        "sns.set(font_scale=1)  # Adjust font scale if needed\n",
        "sns.heatmap(conf_matrix, cmap='Blues', annot=True, annot_kws={\"size\": 8}, fmt='d')\n",
        "plt.xlabel('Predicted label')\n",
        "plt.ylabel('True label')\n",
        "plt.title('Confusion Matrix Heatmap')\n",
        "plt.show()\n",
        "plt.savefig('Conf_matrix_heatmap.png',dpi=300)"
      ]
    },
    {
      "cell_type": "markdown",
      "source": [
        "# **Precision, Recall, F1 Score**"
      ],
      "metadata": {
        "id": "mqB7B3Rz-XON"
      }
    },
    {
      "cell_type": "code",
      "source": [
        "# precision = precision_score(y_test,y_pred_classes)\n",
        "# recall = recall_score(y_test,y_pred_classes)\n",
        "# f1 = f1_score(y_test,y_pred_classes)\n",
        "\n",
        "# print('Classification Report')\n",
        "# print(\"Precision: \",precision)\n",
        "# print(\"Recall: \",recall)\n",
        "# print(\"F1 Score: \",f1)\n",
        "\n",
        "report = classification_report(y_test,y_pred_classes)\n",
        "print(report)\n"
      ],
      "metadata": {
        "id": "swcgQpcw-doG",
        "colab": {
          "base_uri": "https://localhost:8080/"
        },
        "outputId": "59741318-bc99-4472-e088-4dec5b872a80"
      },
      "execution_count": 10,
      "outputs": [
        {
          "output_type": "stream",
          "name": "stdout",
          "text": [
            "              precision    recall  f1-score   support\n",
            "\n",
            "         0.0       1.00      1.00      1.00       246\n",
            "         1.0       1.00      1.00      1.00        62\n",
            "         2.0       1.00      1.00      1.00        65\n",
            "         3.0       1.00      1.00      1.00        82\n",
            "         4.0       1.00      1.00      1.00        47\n",
            "         5.0       1.00      1.00      1.00        74\n",
            "         6.0       1.00      1.00      1.00        30\n",
            "         7.0       1.00      1.00      1.00       127\n",
            "         8.0       1.00      1.00      1.00       146\n",
            "         9.0       1.00      1.00      1.00       127\n",
            "        10.0       1.00      1.00      1.00       110\n",
            "        11.0       1.00      1.00      1.00       160\n",
            "        12.0       1.00      1.00      1.00       288\n",
            "\n",
            "    accuracy                           1.00      1564\n",
            "   macro avg       1.00      1.00      1.00      1564\n",
            "weighted avg       1.00      1.00      1.00      1564\n",
            "\n"
          ]
        }
      ]
    },
    {
      "cell_type": "markdown",
      "source": [
        "# **Classification report shows**"
      ],
      "metadata": {
        "id": "pGUyZuJ8t_L1"
      }
    },
    {
      "cell_type": "code",
      "source": [
        "report = classification_report(y_test, y_pred_classes, output_dict=True)\n",
        "report_df = pd.DataFrame(report).transpose()\n",
        "\n",
        "# Plot the classification report\n",
        "fig, ax = plt.subplots(figsize=(7, 5))\n",
        "report_df.plot(kind='bar', ax=ax)\n",
        "plt.title('Classification Report')\n",
        "plt.xlabel('Metrics')\n",
        "plt.ylabel('Score')\n",
        "plt.xticks(rotation=45)\n",
        "plt.legend(loc='upper right')\n",
        "plt.tight_layout()\n",
        "plt.show()"
      ],
      "metadata": {
        "id": "6ZrkKclWt8M7",
        "colab": {
          "base_uri": "https://localhost:8080/",
          "height": 501
        },
        "outputId": "ad90fe7e-9980-4bf9-abea-98ec815d86c6"
      },
      "execution_count": 11,
      "outputs": [
        {
          "output_type": "display_data",
          "data": {
            "text/plain": [
              "<Figure size 700x500 with 1 Axes>"
            ],
            "image/png": "[encoded data removed]"
          },
          "metadata": {}
        }
      ]
    },
    {
      "cell_type": "code",
      "source": [
        "# Access precision, recall, and F1-score for each class\n",
        "precision = precision_score(y_test, y_pred_classes, average='macro')\n",
        "recall = recall_score(y_test, y_pred_classes, average='macro')\n",
        "f1 = f1_score(y_test, y_pred_classes, average='macro')\n",
        "\n",
        "print(\"Precision per class:\", precision)\n",
        "print(\"Recall per class:\", recall)\n",
        "print(\"F1 Score per class:\", f1)"
      ],
      "metadata": {
        "colab": {
          "base_uri": "https://localhost:8080/"
        },
        "id": "zOXv69J6Diuw",
        "outputId": "c72c3c36-a320-4b64-cf0b-56441802d87e"
      },
      "execution_count": 15,
      "outputs": [
        {
          "output_type": "stream",
          "name": "stdout",
          "text": [
            "Precision per class: 1.0\n",
            "Recall per class: 1.0\n",
            "F1 Score per class: 1.0\n"
          ]
        }
      ]
    }
  ]
}